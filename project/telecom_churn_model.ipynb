{
 "cells": [
  {
   "cell_type": "code",
   "execution_count": null,
   "id": "761b2392",
   "metadata": {},
   "outputs": [],
   "source": [
    "# OUtline at https://towardsdatascience.com/hands-on-predict-customer-churn-5c2a42806266\n",
    "# https://www.kaggle.com/mnassrib/customer-churn-prediction-telecom-churn-dataset"
   ]
  },
  {
   "cell_type": "code",
   "execution_count": 1,
   "id": "936bcb3e",
   "metadata": {},
   "outputs": [
    {
     "data": {
      "text/html": [
       "        <script type=\"text/javascript\">\n",
       "        window.PlotlyConfig = {MathJaxConfig: 'local'};\n",
       "        if (window.MathJax) {MathJax.Hub.Config({SVG: {font: \"STIX-Web\"}});}\n",
       "        if (typeof require !== 'undefined') {\n",
       "        require.undef(\"plotly\");\n",
       "        requirejs.config({\n",
       "            paths: {\n",
       "                'plotly': ['https://cdn.plot.ly/plotly-2.4.2.min']\n",
       "            }\n",
       "        });\n",
       "        require(['plotly'], function(Plotly) {\n",
       "            window._Plotly = Plotly;\n",
       "        });\n",
       "        }\n",
       "        </script>\n",
       "        "
      ]
     },
     "metadata": {},
     "output_type": "display_data"
    }
   ],
   "source": [
    "#Importing libraries\n",
    "import numpy as np # linear algebra\n",
    "import pandas as pd # data processing, CSV file I/O (e.g. pd.read_csv)\n",
    "from math import * # module math\n",
    "import matplotlib.pyplot as plt # visualization\n",
    "from PIL import Image\n",
    "import seaborn as sns # visualization\n",
    "import itertools\n",
    "import io\n",
    "import plotly.offline as py # visualization\n",
    "py.init_notebook_mode(connected=True) # visualization\n",
    "import plotly.graph_objs as go # visualization\n",
    "from plotly.subplots import make_subplots\n",
    "import plotly.figure_factory as ff # visualization\n",
    "import warnings\n",
    "warnings.filterwarnings(\"ignore\")\n",
    "import os\n",
    "for dirname, _, filenames in os.walk('/kaggle/input'):\n",
    "    for filename in filenames:\n",
    "        print(os.path.join(dirname, filename))\n",
    "from pylab import rcParams\n",
    "\n",
    "\n",
    "%matplotlib inline"
   ]
  },
  {
   "cell_type": "code",
   "execution_count": 2,
   "id": "d0c7c448",
   "metadata": {},
   "outputs": [],
   "source": [
    "data = pd.read_csv('only_month_to_month.csv')"
   ]
  },
  {
   "cell_type": "code",
   "execution_count": 3,
   "id": "c9635b36",
   "metadata": {},
   "outputs": [
    {
     "data": {
      "text/html": [
       "<div>\n",
       "<style scoped>\n",
       "    .dataframe tbody tr th:only-of-type {\n",
       "        vertical-align: middle;\n",
       "    }\n",
       "\n",
       "    .dataframe tbody tr th {\n",
       "        vertical-align: top;\n",
       "    }\n",
       "\n",
       "    .dataframe thead th {\n",
       "        text-align: right;\n",
       "    }\n",
       "</style>\n",
       "<table border=\"1\" class=\"dataframe\">\n",
       "  <thead>\n",
       "    <tr style=\"text-align: right;\">\n",
       "      <th></th>\n",
       "      <th>customer_id</th>\n",
       "      <th>gender</th>\n",
       "      <th>is_senior_citizen</th>\n",
       "      <th>partner</th>\n",
       "      <th>dependents</th>\n",
       "      <th>phone_service</th>\n",
       "      <th>internet_service</th>\n",
       "      <th>contract_type</th>\n",
       "      <th>payment_type</th>\n",
       "      <th>monthly_charges</th>\n",
       "      <th>...</th>\n",
       "      <th>no_dependents_yes_partners</th>\n",
       "      <th>dependents_no_partners</th>\n",
       "      <th>yes_dependents_and_partners</th>\n",
       "      <th>Unnamed: 23</th>\n",
       "      <th>start_date</th>\n",
       "      <th>average_monthly_charges</th>\n",
       "      <th>validate_monthly_charges</th>\n",
       "      <th>contract_type_desc</th>\n",
       "      <th>phone_type_desc</th>\n",
       "      <th>internet_type_desc</th>\n",
       "    </tr>\n",
       "  </thead>\n",
       "  <tbody>\n",
       "    <tr>\n",
       "      <th>0</th>\n",
       "      <td>1371-DWPAZ</td>\n",
       "      <td>Female</td>\n",
       "      <td>0</td>\n",
       "      <td>Yes</td>\n",
       "      <td>Yes</td>\n",
       "      <td>0</td>\n",
       "      <td>1</td>\n",
       "      <td>2</td>\n",
       "      <td>Credit card (automatic)</td>\n",
       "      <td>$56.05</td>\n",
       "      <td>...</td>\n",
       "      <td>False</td>\n",
       "      <td>False</td>\n",
       "      <td>True</td>\n",
       "      <td>3.0</td>\n",
       "      <td>20211026</td>\n",
       "      <td>$0.00</td>\n",
       "      <td>False</td>\n",
       "      <td>2 Year</td>\n",
       "      <td>No Phone Service</td>\n",
       "      <td>DSL</td>\n",
       "    </tr>\n",
       "    <tr>\n",
       "      <th>1</th>\n",
       "      <td>2520-SGTTA</td>\n",
       "      <td>Female</td>\n",
       "      <td>0</td>\n",
       "      <td>Yes</td>\n",
       "      <td>Yes</td>\n",
       "      <td>1</td>\n",
       "      <td>0</td>\n",
       "      <td>2</td>\n",
       "      <td>Mailed check</td>\n",
       "      <td>$20.00</td>\n",
       "      <td>...</td>\n",
       "      <td>NaN</td>\n",
       "      <td>NaN</td>\n",
       "      <td>NaN</td>\n",
       "      <td>NaN</td>\n",
       "      <td>20211026</td>\n",
       "      <td>$0.00</td>\n",
       "      <td>False</td>\n",
       "      <td>2 Year</td>\n",
       "      <td>One Line</td>\n",
       "      <td>No Internet Service</td>\n",
       "    </tr>\n",
       "    <tr>\n",
       "      <th>2</th>\n",
       "      <td>2775-SEFEE</td>\n",
       "      <td>Male</td>\n",
       "      <td>0</td>\n",
       "      <td>No</td>\n",
       "      <td>Yes</td>\n",
       "      <td>2</td>\n",
       "      <td>1</td>\n",
       "      <td>2</td>\n",
       "      <td>Bank transfer (automatic)</td>\n",
       "      <td>$61.90</td>\n",
       "      <td>...</td>\n",
       "      <td>NaN</td>\n",
       "      <td>NaN</td>\n",
       "      <td>NaN</td>\n",
       "      <td>NaN</td>\n",
       "      <td>20211026</td>\n",
       "      <td>$0.00</td>\n",
       "      <td>False</td>\n",
       "      <td>2 Year</td>\n",
       "      <td>Two or More Lines</td>\n",
       "      <td>DSL</td>\n",
       "    </tr>\n",
       "    <tr>\n",
       "      <th>3</th>\n",
       "      <td>2923-ARZLG</td>\n",
       "      <td>Male</td>\n",
       "      <td>0</td>\n",
       "      <td>Yes</td>\n",
       "      <td>Yes</td>\n",
       "      <td>1</td>\n",
       "      <td>0</td>\n",
       "      <td>1</td>\n",
       "      <td>Mailed check</td>\n",
       "      <td>$19.70</td>\n",
       "      <td>...</td>\n",
       "      <td>NaN</td>\n",
       "      <td>NaN</td>\n",
       "      <td>NaN</td>\n",
       "      <td>NaN</td>\n",
       "      <td>20211026</td>\n",
       "      <td>$0.00</td>\n",
       "      <td>False</td>\n",
       "      <td>1 Year</td>\n",
       "      <td>One Line</td>\n",
       "      <td>No Internet Service</td>\n",
       "    </tr>\n",
       "    <tr>\n",
       "      <th>4</th>\n",
       "      <td>3115-CZMZD</td>\n",
       "      <td>Male</td>\n",
       "      <td>0</td>\n",
       "      <td>No</td>\n",
       "      <td>Yes</td>\n",
       "      <td>1</td>\n",
       "      <td>0</td>\n",
       "      <td>2</td>\n",
       "      <td>Mailed check</td>\n",
       "      <td>$20.25</td>\n",
       "      <td>...</td>\n",
       "      <td>NaN</td>\n",
       "      <td>NaN</td>\n",
       "      <td>NaN</td>\n",
       "      <td>NaN</td>\n",
       "      <td>20211026</td>\n",
       "      <td>$0.00</td>\n",
       "      <td>False</td>\n",
       "      <td>2 Year</td>\n",
       "      <td>One Line</td>\n",
       "      <td>No Internet Service</td>\n",
       "    </tr>\n",
       "  </tbody>\n",
       "</table>\n",
       "<p>5 rows × 30 columns</p>\n",
       "</div>"
      ],
      "text/plain": [
       "  customer_id  gender  is_senior_citizen partner dependents  phone_service  \\\n",
       "0  1371-DWPAZ  Female                  0     Yes        Yes              0   \n",
       "1  2520-SGTTA  Female                  0     Yes        Yes              1   \n",
       "2  2775-SEFEE    Male                  0      No        Yes              2   \n",
       "3  2923-ARZLG    Male                  0     Yes        Yes              1   \n",
       "4  3115-CZMZD    Male                  0      No        Yes              1   \n",
       "\n",
       "   internet_service  contract_type               payment_type monthly_charges  \\\n",
       "0                 1              2    Credit card (automatic)          $56.05   \n",
       "1                 0              2               Mailed check          $20.00   \n",
       "2                 1              2  Bank transfer (automatic)          $61.90   \n",
       "3                 0              1               Mailed check          $19.70   \n",
       "4                 0              2               Mailed check          $20.25   \n",
       "\n",
       "   ... no_dependents_yes_partners dependents_no_partners  \\\n",
       "0  ...                      False                  False   \n",
       "1  ...                        NaN                    NaN   \n",
       "2  ...                        NaN                    NaN   \n",
       "3  ...                        NaN                    NaN   \n",
       "4  ...                        NaN                    NaN   \n",
       "\n",
       "   yes_dependents_and_partners  Unnamed: 23  start_date  \\\n",
       "0                         True          3.0    20211026   \n",
       "1                          NaN          NaN    20211026   \n",
       "2                          NaN          NaN    20211026   \n",
       "3                          NaN          NaN    20211026   \n",
       "4                          NaN          NaN    20211026   \n",
       "\n",
       "   average_monthly_charges  validate_monthly_charges  contract_type_desc  \\\n",
       "0                    $0.00                     False              2 Year   \n",
       "1                    $0.00                     False              2 Year   \n",
       "2                    $0.00                     False              2 Year   \n",
       "3                    $0.00                     False              1 Year   \n",
       "4                    $0.00                     False              2 Year   \n",
       "\n",
       "     phone_type_desc   internet_type_desc  \n",
       "0   No Phone Service                  DSL  \n",
       "1           One Line  No Internet Service  \n",
       "2  Two or More Lines                  DSL  \n",
       "3           One Line  No Internet Service  \n",
       "4           One Line  No Internet Service  \n",
       "\n",
       "[5 rows x 30 columns]"
      ]
     },
     "execution_count": 3,
     "metadata": {},
     "output_type": "execute_result"
    }
   ],
   "source": [
    "data.head()"
   ]
  },
  {
   "cell_type": "code",
   "execution_count": 4,
   "id": "67cf96b4",
   "metadata": {},
   "outputs": [
    {
     "data": {
      "text/plain": [
       "(7043, 30)"
      ]
     },
     "execution_count": 4,
     "metadata": {},
     "output_type": "execute_result"
    }
   ],
   "source": [
    "data.shape"
   ]
  },
  {
   "cell_type": "code",
   "execution_count": 5,
   "id": "99db7386",
   "metadata": {},
   "outputs": [
    {
     "data": {
      "image/png": "[encoded data removed]",
      "text/plain": [
       "<Figure size 360x360 with 1 Axes>"
      ]
     },
     "metadata": {},
     "output_type": "display_data"
    }
   ],
   "source": [
    "# Current churn rate\n",
    "sizes = data['churn'].value_counts(sort = True)\n",
    "colors = ['grey', 'purple']\n",
    "rcParams['figure.figsize']=5,5\n",
    "\n",
    "plt.pie(sizes, colors=colors, autopct='%1.1f%%', shadow=True, startangle=270)\n",
    "\n",
    "plt.title('Percentage of Churn in Month-to-month Customers')\n",
    "plt.show();"
   ]
  },
  {
   "cell_type": "code",
   "execution_count": 6,
   "id": "36bd55ec",
   "metadata": {},
   "outputs": [],
   "source": [
    "#Remove data irrelevant to correlation\n",
    "data.drop('customer_id', axis=1, inplace=True)"
   ]
  },
  {
   "cell_type": "code",
   "execution_count": 7,
   "id": "bf378af6",
   "metadata": {},
   "outputs": [
    {
     "data": {
      "text/plain": [
       "gender                          object\n",
       "is_senior_citizen                int64\n",
       "partner                         object\n",
       "dependents                      object\n",
       "phone_service                    int64\n",
       "internet_service                 int64\n",
       "contract_type                    int64\n",
       "payment_type                    object\n",
       "monthly_charges                 object\n",
       "total_charges                   object\n",
       "churn                           object\n",
       "tenure                           int64\n",
       "is_female                         bool\n",
       "has_churned                       bool\n",
       "has_phone                         bool\n",
       "has_internet                      bool\n",
       "has_phone_and_internet            bool\n",
       "partner_dependents               int64\n",
       "no_partners_no_dependents       object\n",
       "no_dependents_yes_partners      object\n",
       "dependents_no_partners          object\n",
       "yes_dependents_and_partners     object\n",
       "Unnamed: 23                    float64\n",
       "start_date                       int64\n",
       "average_monthly_charges         object\n",
       "validate_monthly_charges          bool\n",
       "contract_type_desc              object\n",
       "phone_type_desc                 object\n",
       "internet_type_desc              object\n",
       "dtype: object"
      ]
     },
     "execution_count": 7,
     "metadata": {},
     "output_type": "execute_result"
    }
   ],
   "source": [
    "#Clean data, define proper dtypes\n",
    "data.dtypes\n"
   ]
  },
  {
   "cell_type": "code",
   "execution_count": 8,
   "id": "b66a1d40",
   "metadata": {},
   "outputs": [],
   "source": [
    "# Convert types\n",
    "data['monthly_charges']=data['monthly_charges'].str.replace('$','')\n",
    "data['monthly_charges']=data['monthly_charges'].str.replace(',','').astype(float)\n",
    "data['total_charges']=data['total_charges'].str.replace('$','')\n",
    "data['total_charges']=data['total_charges'].str.replace(',','').astype(float)\n",
    "data['average_monthly_charges']=data['average_monthly_charges'].str.replace('$','')\n",
    "data['average_monthly_charges']=data['average_monthly_charges'].str.replace(',','').astype(float)\n",
    "\n",
    "\n"
   ]
  },
  {
   "cell_type": "code",
   "execution_count": 9,
   "id": "e44d8c78",
   "metadata": {},
   "outputs": [
    {
     "data": {
      "text/plain": [
       "gender                          object\n",
       "is_senior_citizen                int64\n",
       "partner                         object\n",
       "dependents                      object\n",
       "phone_service                    int64\n",
       "internet_service                 int64\n",
       "contract_type                    int64\n",
       "payment_type                    object\n",
       "monthly_charges                float64\n",
       "total_charges                  float64\n",
       "churn                           object\n",
       "tenure                           int64\n",
       "is_female                         bool\n",
       "has_churned                       bool\n",
       "has_phone                         bool\n",
       "has_internet                      bool\n",
       "has_phone_and_internet            bool\n",
       "partner_dependents               int64\n",
       "no_partners_no_dependents       object\n",
       "no_dependents_yes_partners      object\n",
       "dependents_no_partners          object\n",
       "yes_dependents_and_partners     object\n",
       "Unnamed: 23                    float64\n",
       "start_date                       int64\n",
       "average_monthly_charges        float64\n",
       "validate_monthly_charges          bool\n",
       "contract_type_desc              object\n",
       "phone_type_desc                 object\n",
       "internet_type_desc              object\n",
       "dtype: object"
      ]
     },
     "execution_count": 9,
     "metadata": {},
     "output_type": "execute_result"
    }
   ],
   "source": [
    "data.dtypes"
   ]
  },
  {
   "cell_type": "code",
   "execution_count": 10,
   "id": "774d2749",
   "metadata": {},
   "outputs": [
    {
     "data": {
      "text/plain": [
       "0             2 Year\n",
       "1             2 Year\n",
       "2             2 Year\n",
       "3             1 Year\n",
       "4             2 Year\n",
       "5             2 Year\n",
       "6             2 Year\n",
       "7             2 Year\n",
       "8             2 Year\n",
       "9             2 Year\n",
       "10            2 Year\n",
       "11            1 Year\n",
       "12    Month-to-Month\n",
       "13    Month-to-Month\n",
       "14    Month-to-Month\n",
       "15    Month-to-Month\n",
       "16    Month-to-Month\n",
       "17            2 Year\n",
       "18            2 Year\n",
       "19    Month-to-Month\n",
       "20            2 Year\n",
       "21            2 Year\n",
       "22            2 Year\n",
       "23    Month-to-Month\n",
       "24            2 Year\n",
       "25            2 Year\n",
       "26            2 Year\n",
       "27            1 Year\n",
       "28    Month-to-Month\n",
       "29            1 Year\n",
       "30    Month-to-Month\n",
       "31            1 Year\n",
       "32    Month-to-Month\n",
       "33    Month-to-Month\n",
       "34    Month-to-Month\n",
       "35    Month-to-Month\n",
       "36    Month-to-Month\n",
       "37            1 Year\n",
       "38            2 Year\n",
       "39            1 Year\n",
       "40            2 Year\n",
       "41            1 Year\n",
       "42            1 Year\n",
       "43            1 Year\n",
       "44            1 Year\n",
       "45            2 Year\n",
       "46            2 Year\n",
       "47    Month-to-Month\n",
       "48    Month-to-Month\n",
       "49            2 Year\n",
       "Name: contract_type_desc, dtype: object"
      ]
     },
     "execution_count": 10,
     "metadata": {},
     "output_type": "execute_result"
    }
   ],
   "source": [
    "data.contract_type_desc.head(50)"
   ]
  },
  {
   "cell_type": "code",
   "execution_count": 11,
   "id": "d4a57c1e",
   "metadata": {},
   "outputs": [],
   "source": [
    "#filter only month to month\n",
    "data =data[data.contract_type_desc=='Month-to-Month']"
   ]
  },
  {
   "cell_type": "code",
   "execution_count": 12,
   "id": "d9115527",
   "metadata": {},
   "outputs": [
    {
     "data": {
      "text/html": [
       "<div>\n",
       "<style scoped>\n",
       "    .dataframe tbody tr th:only-of-type {\n",
       "        vertical-align: middle;\n",
       "    }\n",
       "\n",
       "    .dataframe tbody tr th {\n",
       "        vertical-align: top;\n",
       "    }\n",
       "\n",
       "    .dataframe thead th {\n",
       "        text-align: right;\n",
       "    }\n",
       "</style>\n",
       "<table border=\"1\" class=\"dataframe\">\n",
       "  <thead>\n",
       "    <tr style=\"text-align: right;\">\n",
       "      <th></th>\n",
       "      <th>gender</th>\n",
       "      <th>is_senior_citizen</th>\n",
       "      <th>partner</th>\n",
       "      <th>dependents</th>\n",
       "      <th>phone_service</th>\n",
       "      <th>internet_service</th>\n",
       "      <th>contract_type</th>\n",
       "      <th>payment_type</th>\n",
       "      <th>monthly_charges</th>\n",
       "      <th>total_charges</th>\n",
       "      <th>...</th>\n",
       "      <th>no_dependents_yes_partners</th>\n",
       "      <th>dependents_no_partners</th>\n",
       "      <th>yes_dependents_and_partners</th>\n",
       "      <th>Unnamed: 23</th>\n",
       "      <th>start_date</th>\n",
       "      <th>average_monthly_charges</th>\n",
       "      <th>validate_monthly_charges</th>\n",
       "      <th>contract_type_desc</th>\n",
       "      <th>phone_type_desc</th>\n",
       "      <th>internet_type_desc</th>\n",
       "    </tr>\n",
       "  </thead>\n",
       "  <tbody>\n",
       "    <tr>\n",
       "      <th>6255</th>\n",
       "      <td>Female</td>\n",
       "      <td>0</td>\n",
       "      <td>Yes</td>\n",
       "      <td>No</td>\n",
       "      <td>1</td>\n",
       "      <td>1</td>\n",
       "      <td>0</td>\n",
       "      <td>Mailed check</td>\n",
       "      <td>71.05</td>\n",
       "      <td>1837.70</td>\n",
       "      <td>...</td>\n",
       "      <td>NaN</td>\n",
       "      <td>NaN</td>\n",
       "      <td>NaN</td>\n",
       "      <td>NaN</td>\n",
       "      <td>20190831</td>\n",
       "      <td>71.05</td>\n",
       "      <td>True</td>\n",
       "      <td>Month-to-Month</td>\n",
       "      <td>One Line</td>\n",
       "      <td>DSL</td>\n",
       "    </tr>\n",
       "    <tr>\n",
       "      <th>6817</th>\n",
       "      <td>Male</td>\n",
       "      <td>1</td>\n",
       "      <td>Yes</td>\n",
       "      <td>No</td>\n",
       "      <td>2</td>\n",
       "      <td>2</td>\n",
       "      <td>0</td>\n",
       "      <td>Electronic check</td>\n",
       "      <td>88.20</td>\n",
       "      <td>4159.45</td>\n",
       "      <td>...</td>\n",
       "      <td>NaN</td>\n",
       "      <td>NaN</td>\n",
       "      <td>NaN</td>\n",
       "      <td>NaN</td>\n",
       "      <td>20171121</td>\n",
       "      <td>88.20</td>\n",
       "      <td>True</td>\n",
       "      <td>Month-to-Month</td>\n",
       "      <td>Two or More Lines</td>\n",
       "      <td>Fiber Optic</td>\n",
       "    </tr>\n",
       "    <tr>\n",
       "      <th>2637</th>\n",
       "      <td>Male</td>\n",
       "      <td>0</td>\n",
       "      <td>No</td>\n",
       "      <td>No</td>\n",
       "      <td>2</td>\n",
       "      <td>2</td>\n",
       "      <td>0</td>\n",
       "      <td>Electronic check</td>\n",
       "      <td>82.35</td>\n",
       "      <td>1852.85</td>\n",
       "      <td>...</td>\n",
       "      <td>NaN</td>\n",
       "      <td>NaN</td>\n",
       "      <td>NaN</td>\n",
       "      <td>NaN</td>\n",
       "      <td>20191211</td>\n",
       "      <td>82.35</td>\n",
       "      <td>True</td>\n",
       "      <td>Month-to-Month</td>\n",
       "      <td>Two or More Lines</td>\n",
       "      <td>Fiber Optic</td>\n",
       "    </tr>\n",
       "    <tr>\n",
       "      <th>828</th>\n",
       "      <td>Male</td>\n",
       "      <td>0</td>\n",
       "      <td>No</td>\n",
       "      <td>No</td>\n",
       "      <td>1</td>\n",
       "      <td>0</td>\n",
       "      <td>0</td>\n",
       "      <td>Bank transfer (automatic)</td>\n",
       "      <td>19.65</td>\n",
       "      <td>19.65</td>\n",
       "      <td>...</td>\n",
       "      <td>NaN</td>\n",
       "      <td>NaN</td>\n",
       "      <td>NaN</td>\n",
       "      <td>NaN</td>\n",
       "      <td>20210925</td>\n",
       "      <td>19.65</td>\n",
       "      <td>True</td>\n",
       "      <td>Month-to-Month</td>\n",
       "      <td>One Line</td>\n",
       "      <td>No Internet Service</td>\n",
       "    </tr>\n",
       "    <tr>\n",
       "      <th>3519</th>\n",
       "      <td>Male</td>\n",
       "      <td>0</td>\n",
       "      <td>No</td>\n",
       "      <td>No</td>\n",
       "      <td>0</td>\n",
       "      <td>1</td>\n",
       "      <td>0</td>\n",
       "      <td>Credit card (automatic)</td>\n",
       "      <td>25.10</td>\n",
       "      <td>382.80</td>\n",
       "      <td>...</td>\n",
       "      <td>NaN</td>\n",
       "      <td>NaN</td>\n",
       "      <td>NaN</td>\n",
       "      <td>NaN</td>\n",
       "      <td>20200719</td>\n",
       "      <td>25.10</td>\n",
       "      <td>True</td>\n",
       "      <td>Month-to-Month</td>\n",
       "      <td>No Phone Service</td>\n",
       "      <td>DSL</td>\n",
       "    </tr>\n",
       "    <tr>\n",
       "      <th>5757</th>\n",
       "      <td>Female</td>\n",
       "      <td>1</td>\n",
       "      <td>No</td>\n",
       "      <td>No</td>\n",
       "      <td>2</td>\n",
       "      <td>2</td>\n",
       "      <td>0</td>\n",
       "      <td>Electronic check</td>\n",
       "      <td>95.45</td>\n",
       "      <td>396.10</td>\n",
       "      <td>...</td>\n",
       "      <td>NaN</td>\n",
       "      <td>NaN</td>\n",
       "      <td>NaN</td>\n",
       "      <td>NaN</td>\n",
       "      <td>20210621</td>\n",
       "      <td>95.45</td>\n",
       "      <td>True</td>\n",
       "      <td>Month-to-Month</td>\n",
       "      <td>Two or More Lines</td>\n",
       "      <td>Fiber Optic</td>\n",
       "    </tr>\n",
       "    <tr>\n",
       "      <th>5269</th>\n",
       "      <td>Male</td>\n",
       "      <td>0</td>\n",
       "      <td>No</td>\n",
       "      <td>No</td>\n",
       "      <td>1</td>\n",
       "      <td>2</td>\n",
       "      <td>0</td>\n",
       "      <td>Bank transfer (automatic)</td>\n",
       "      <td>95.90</td>\n",
       "      <td>827.45</td>\n",
       "      <td>...</td>\n",
       "      <td>NaN</td>\n",
       "      <td>NaN</td>\n",
       "      <td>NaN</td>\n",
       "      <td>NaN</td>\n",
       "      <td>20210205</td>\n",
       "      <td>95.90</td>\n",
       "      <td>True</td>\n",
       "      <td>Month-to-Month</td>\n",
       "      <td>One Line</td>\n",
       "      <td>Fiber Optic</td>\n",
       "    </tr>\n",
       "    <tr>\n",
       "      <th>452</th>\n",
       "      <td>Male</td>\n",
       "      <td>1</td>\n",
       "      <td>No</td>\n",
       "      <td>No</td>\n",
       "      <td>1</td>\n",
       "      <td>2</td>\n",
       "      <td>0</td>\n",
       "      <td>Electronic check</td>\n",
       "      <td>70.65</td>\n",
       "      <td>293.85</td>\n",
       "      <td>...</td>\n",
       "      <td>NaN</td>\n",
       "      <td>NaN</td>\n",
       "      <td>NaN</td>\n",
       "      <td>NaN</td>\n",
       "      <td>20210621</td>\n",
       "      <td>70.65</td>\n",
       "      <td>True</td>\n",
       "      <td>Month-to-Month</td>\n",
       "      <td>One Line</td>\n",
       "      <td>Fiber Optic</td>\n",
       "    </tr>\n",
       "    <tr>\n",
       "      <th>2143</th>\n",
       "      <td>Male</td>\n",
       "      <td>1</td>\n",
       "      <td>No</td>\n",
       "      <td>No</td>\n",
       "      <td>2</td>\n",
       "      <td>2</td>\n",
       "      <td>0</td>\n",
       "      <td>Electronic check</td>\n",
       "      <td>88.80</td>\n",
       "      <td>88.80</td>\n",
       "      <td>...</td>\n",
       "      <td>NaN</td>\n",
       "      <td>NaN</td>\n",
       "      <td>NaN</td>\n",
       "      <td>NaN</td>\n",
       "      <td>20210925</td>\n",
       "      <td>88.80</td>\n",
       "      <td>True</td>\n",
       "      <td>Month-to-Month</td>\n",
       "      <td>Two or More Lines</td>\n",
       "      <td>Fiber Optic</td>\n",
       "    </tr>\n",
       "    <tr>\n",
       "      <th>6485</th>\n",
       "      <td>Male</td>\n",
       "      <td>0</td>\n",
       "      <td>Yes</td>\n",
       "      <td>No</td>\n",
       "      <td>2</td>\n",
       "      <td>2</td>\n",
       "      <td>0</td>\n",
       "      <td>Electronic check</td>\n",
       "      <td>85.15</td>\n",
       "      <td>1139.20</td>\n",
       "      <td>...</td>\n",
       "      <td>NaN</td>\n",
       "      <td>NaN</td>\n",
       "      <td>NaN</td>\n",
       "      <td>NaN</td>\n",
       "      <td>20200914</td>\n",
       "      <td>85.15</td>\n",
       "      <td>True</td>\n",
       "      <td>Month-to-Month</td>\n",
       "      <td>Two or More Lines</td>\n",
       "      <td>Fiber Optic</td>\n",
       "    </tr>\n",
       "    <tr>\n",
       "      <th>3591</th>\n",
       "      <td>Male</td>\n",
       "      <td>0</td>\n",
       "      <td>No</td>\n",
       "      <td>No</td>\n",
       "      <td>1</td>\n",
       "      <td>0</td>\n",
       "      <td>0</td>\n",
       "      <td>Electronic check</td>\n",
       "      <td>20.65</td>\n",
       "      <td>20.65</td>\n",
       "      <td>...</td>\n",
       "      <td>NaN</td>\n",
       "      <td>NaN</td>\n",
       "      <td>NaN</td>\n",
       "      <td>NaN</td>\n",
       "      <td>20210925</td>\n",
       "      <td>20.65</td>\n",
       "      <td>True</td>\n",
       "      <td>Month-to-Month</td>\n",
       "      <td>One Line</td>\n",
       "      <td>No Internet Service</td>\n",
       "    </tr>\n",
       "    <tr>\n",
       "      <th>5139</th>\n",
       "      <td>Female</td>\n",
       "      <td>1</td>\n",
       "      <td>No</td>\n",
       "      <td>No</td>\n",
       "      <td>2</td>\n",
       "      <td>2</td>\n",
       "      <td>0</td>\n",
       "      <td>Electronic check</td>\n",
       "      <td>101.35</td>\n",
       "      <td>780.50</td>\n",
       "      <td>...</td>\n",
       "      <td>NaN</td>\n",
       "      <td>NaN</td>\n",
       "      <td>NaN</td>\n",
       "      <td>NaN</td>\n",
       "      <td>20210305</td>\n",
       "      <td>101.35</td>\n",
       "      <td>True</td>\n",
       "      <td>Month-to-Month</td>\n",
       "      <td>Two or More Lines</td>\n",
       "      <td>Fiber Optic</td>\n",
       "    </tr>\n",
       "    <tr>\n",
       "      <th>411</th>\n",
       "      <td>Male</td>\n",
       "      <td>0</td>\n",
       "      <td>Yes</td>\n",
       "      <td>Yes</td>\n",
       "      <td>2</td>\n",
       "      <td>2</td>\n",
       "      <td>0</td>\n",
       "      <td>Electronic check</td>\n",
       "      <td>91.80</td>\n",
       "      <td>5960.50</td>\n",
       "      <td>...</td>\n",
       "      <td>NaN</td>\n",
       "      <td>NaN</td>\n",
       "      <td>NaN</td>\n",
       "      <td>NaN</td>\n",
       "      <td>20160530</td>\n",
       "      <td>91.80</td>\n",
       "      <td>True</td>\n",
       "      <td>Month-to-Month</td>\n",
       "      <td>Two or More Lines</td>\n",
       "      <td>Fiber Optic</td>\n",
       "    </tr>\n",
       "    <tr>\n",
       "      <th>5134</th>\n",
       "      <td>Male</td>\n",
       "      <td>0</td>\n",
       "      <td>No</td>\n",
       "      <td>No</td>\n",
       "      <td>1</td>\n",
       "      <td>2</td>\n",
       "      <td>0</td>\n",
       "      <td>Electronic check</td>\n",
       "      <td>88.45</td>\n",
       "      <td>370.65</td>\n",
       "      <td>...</td>\n",
       "      <td>NaN</td>\n",
       "      <td>NaN</td>\n",
       "      <td>NaN</td>\n",
       "      <td>NaN</td>\n",
       "      <td>20210620</td>\n",
       "      <td>88.45</td>\n",
       "      <td>True</td>\n",
       "      <td>Month-to-Month</td>\n",
       "      <td>One Line</td>\n",
       "      <td>Fiber Optic</td>\n",
       "    </tr>\n",
       "    <tr>\n",
       "      <th>5616</th>\n",
       "      <td>Female</td>\n",
       "      <td>0</td>\n",
       "      <td>Yes</td>\n",
       "      <td>Yes</td>\n",
       "      <td>0</td>\n",
       "      <td>1</td>\n",
       "      <td>0</td>\n",
       "      <td>Mailed check</td>\n",
       "      <td>24.85</td>\n",
       "      <td>434.80</td>\n",
       "      <td>...</td>\n",
       "      <td>NaN</td>\n",
       "      <td>NaN</td>\n",
       "      <td>NaN</td>\n",
       "      <td>NaN</td>\n",
       "      <td>20200511</td>\n",
       "      <td>24.85</td>\n",
       "      <td>True</td>\n",
       "      <td>Month-to-Month</td>\n",
       "      <td>No Phone Service</td>\n",
       "      <td>DSL</td>\n",
       "    </tr>\n",
       "    <tr>\n",
       "      <th>5871</th>\n",
       "      <td>Male</td>\n",
       "      <td>1</td>\n",
       "      <td>No</td>\n",
       "      <td>No</td>\n",
       "      <td>2</td>\n",
       "      <td>2</td>\n",
       "      <td>0</td>\n",
       "      <td>Electronic check</td>\n",
       "      <td>77.00</td>\n",
       "      <td>237.75</td>\n",
       "      <td>...</td>\n",
       "      <td>NaN</td>\n",
       "      <td>NaN</td>\n",
       "      <td>NaN</td>\n",
       "      <td>NaN</td>\n",
       "      <td>20210724</td>\n",
       "      <td>77.00</td>\n",
       "      <td>True</td>\n",
       "      <td>Month-to-Month</td>\n",
       "      <td>Two or More Lines</td>\n",
       "      <td>Fiber Optic</td>\n",
       "    </tr>\n",
       "    <tr>\n",
       "      <th>4339</th>\n",
       "      <td>Female</td>\n",
       "      <td>0</td>\n",
       "      <td>No</td>\n",
       "      <td>No</td>\n",
       "      <td>1</td>\n",
       "      <td>0</td>\n",
       "      <td>0</td>\n",
       "      <td>Mailed check</td>\n",
       "      <td>19.10</td>\n",
       "      <td>19.10</td>\n",
       "      <td>...</td>\n",
       "      <td>NaN</td>\n",
       "      <td>NaN</td>\n",
       "      <td>NaN</td>\n",
       "      <td>NaN</td>\n",
       "      <td>20210925</td>\n",
       "      <td>19.10</td>\n",
       "      <td>True</td>\n",
       "      <td>Month-to-Month</td>\n",
       "      <td>One Line</td>\n",
       "      <td>No Internet Service</td>\n",
       "    </tr>\n",
       "    <tr>\n",
       "      <th>5661</th>\n",
       "      <td>Female</td>\n",
       "      <td>0</td>\n",
       "      <td>Yes</td>\n",
       "      <td>No</td>\n",
       "      <td>1</td>\n",
       "      <td>2</td>\n",
       "      <td>0</td>\n",
       "      <td>Electronic check</td>\n",
       "      <td>74.60</td>\n",
       "      <td>1797.75</td>\n",
       "      <td>...</td>\n",
       "      <td>NaN</td>\n",
       "      <td>NaN</td>\n",
       "      <td>NaN</td>\n",
       "      <td>NaN</td>\n",
       "      <td>20191024</td>\n",
       "      <td>74.60</td>\n",
       "      <td>True</td>\n",
       "      <td>Month-to-Month</td>\n",
       "      <td>One Line</td>\n",
       "      <td>Fiber Optic</td>\n",
       "    </tr>\n",
       "    <tr>\n",
       "      <th>2326</th>\n",
       "      <td>Male</td>\n",
       "      <td>1</td>\n",
       "      <td>No</td>\n",
       "      <td>No</td>\n",
       "      <td>2</td>\n",
       "      <td>2</td>\n",
       "      <td>0</td>\n",
       "      <td>Electronic check</td>\n",
       "      <td>95.45</td>\n",
       "      <td>3474.05</td>\n",
       "      <td>...</td>\n",
       "      <td>NaN</td>\n",
       "      <td>NaN</td>\n",
       "      <td>NaN</td>\n",
       "      <td>NaN</td>\n",
       "      <td>20181014</td>\n",
       "      <td>95.45</td>\n",
       "      <td>True</td>\n",
       "      <td>Month-to-Month</td>\n",
       "      <td>Two or More Lines</td>\n",
       "      <td>Fiber Optic</td>\n",
       "    </tr>\n",
       "    <tr>\n",
       "      <th>3842</th>\n",
       "      <td>Male</td>\n",
       "      <td>0</td>\n",
       "      <td>No</td>\n",
       "      <td>No</td>\n",
       "      <td>1</td>\n",
       "      <td>2</td>\n",
       "      <td>0</td>\n",
       "      <td>Electronic check</td>\n",
       "      <td>79.60</td>\n",
       "      <td>79.60</td>\n",
       "      <td>...</td>\n",
       "      <td>NaN</td>\n",
       "      <td>NaN</td>\n",
       "      <td>NaN</td>\n",
       "      <td>NaN</td>\n",
       "      <td>20210925</td>\n",
       "      <td>79.60</td>\n",
       "      <td>True</td>\n",
       "      <td>Month-to-Month</td>\n",
       "      <td>One Line</td>\n",
       "      <td>Fiber Optic</td>\n",
       "    </tr>\n",
       "  </tbody>\n",
       "</table>\n",
       "<p>20 rows × 29 columns</p>\n",
       "</div>"
      ],
      "text/plain": [
       "      gender  is_senior_citizen partner dependents  phone_service  \\\n",
       "6255  Female                  0     Yes         No              1   \n",
       "6817    Male                  1     Yes         No              2   \n",
       "2637    Male                  0      No         No              2   \n",
       "828     Male                  0      No         No              1   \n",
       "3519    Male                  0      No         No              0   \n",
       "5757  Female                  1      No         No              2   \n",
       "5269    Male                  0      No         No              1   \n",
       "452     Male                  1      No         No              1   \n",
       "2143    Male                  1      No         No              2   \n",
       "6485    Male                  0     Yes         No              2   \n",
       "3591    Male                  0      No         No              1   \n",
       "5139  Female                  1      No         No              2   \n",
       "411     Male                  0     Yes        Yes              2   \n",
       "5134    Male                  0      No         No              1   \n",
       "5616  Female                  0     Yes        Yes              0   \n",
       "5871    Male                  1      No         No              2   \n",
       "4339  Female                  0      No         No              1   \n",
       "5661  Female                  0     Yes         No              1   \n",
       "2326    Male                  1      No         No              2   \n",
       "3842    Male                  0      No         No              1   \n",
       "\n",
       "      internet_service  contract_type               payment_type  \\\n",
       "6255                 1              0               Mailed check   \n",
       "6817                 2              0           Electronic check   \n",
       "2637                 2              0           Electronic check   \n",
       "828                  0              0  Bank transfer (automatic)   \n",
       "3519                 1              0    Credit card (automatic)   \n",
       "5757                 2              0           Electronic check   \n",
       "5269                 2              0  Bank transfer (automatic)   \n",
       "452                  2              0           Electronic check   \n",
       "2143                 2              0           Electronic check   \n",
       "6485                 2              0           Electronic check   \n",
       "3591                 0              0           Electronic check   \n",
       "5139                 2              0           Electronic check   \n",
       "411                  2              0           Electronic check   \n",
       "5134                 2              0           Electronic check   \n",
       "5616                 1              0               Mailed check   \n",
       "5871                 2              0           Electronic check   \n",
       "4339                 0              0               Mailed check   \n",
       "5661                 2              0           Electronic check   \n",
       "2326                 2              0           Electronic check   \n",
       "3842                 2              0           Electronic check   \n",
       "\n",
       "      monthly_charges  total_charges  ... no_dependents_yes_partners  \\\n",
       "6255            71.05        1837.70  ...                        NaN   \n",
       "6817            88.20        4159.45  ...                        NaN   \n",
       "2637            82.35        1852.85  ...                        NaN   \n",
       "828             19.65          19.65  ...                        NaN   \n",
       "3519            25.10         382.80  ...                        NaN   \n",
       "5757            95.45         396.10  ...                        NaN   \n",
       "5269            95.90         827.45  ...                        NaN   \n",
       "452             70.65         293.85  ...                        NaN   \n",
       "2143            88.80          88.80  ...                        NaN   \n",
       "6485            85.15        1139.20  ...                        NaN   \n",
       "3591            20.65          20.65  ...                        NaN   \n",
       "5139           101.35         780.50  ...                        NaN   \n",
       "411             91.80        5960.50  ...                        NaN   \n",
       "5134            88.45         370.65  ...                        NaN   \n",
       "5616            24.85         434.80  ...                        NaN   \n",
       "5871            77.00         237.75  ...                        NaN   \n",
       "4339            19.10          19.10  ...                        NaN   \n",
       "5661            74.60        1797.75  ...                        NaN   \n",
       "2326            95.45        3474.05  ...                        NaN   \n",
       "3842            79.60          79.60  ...                        NaN   \n",
       "\n",
       "      dependents_no_partners  yes_dependents_and_partners  Unnamed: 23  \\\n",
       "6255                     NaN                          NaN          NaN   \n",
       "6817                     NaN                          NaN          NaN   \n",
       "2637                     NaN                          NaN          NaN   \n",
       "828                      NaN                          NaN          NaN   \n",
       "3519                     NaN                          NaN          NaN   \n",
       "5757                     NaN                          NaN          NaN   \n",
       "5269                     NaN                          NaN          NaN   \n",
       "452                      NaN                          NaN          NaN   \n",
       "2143                     NaN                          NaN          NaN   \n",
       "6485                     NaN                          NaN          NaN   \n",
       "3591                     NaN                          NaN          NaN   \n",
       "5139                     NaN                          NaN          NaN   \n",
       "411                      NaN                          NaN          NaN   \n",
       "5134                     NaN                          NaN          NaN   \n",
       "5616                     NaN                          NaN          NaN   \n",
       "5871                     NaN                          NaN          NaN   \n",
       "4339                     NaN                          NaN          NaN   \n",
       "5661                     NaN                          NaN          NaN   \n",
       "2326                     NaN                          NaN          NaN   \n",
       "3842                     NaN                          NaN          NaN   \n",
       "\n",
       "      start_date  average_monthly_charges  validate_monthly_charges  \\\n",
       "6255    20190831                    71.05                      True   \n",
       "6817    20171121                    88.20                      True   \n",
       "2637    20191211                    82.35                      True   \n",
       "828     20210925                    19.65                      True   \n",
       "3519    20200719                    25.10                      True   \n",
       "5757    20210621                    95.45                      True   \n",
       "5269    20210205                    95.90                      True   \n",
       "452     20210621                    70.65                      True   \n",
       "2143    20210925                    88.80                      True   \n",
       "6485    20200914                    85.15                      True   \n",
       "3591    20210925                    20.65                      True   \n",
       "5139    20210305                   101.35                      True   \n",
       "411     20160530                    91.80                      True   \n",
       "5134    20210620                    88.45                      True   \n",
       "5616    20200511                    24.85                      True   \n",
       "5871    20210724                    77.00                      True   \n",
       "4339    20210925                    19.10                      True   \n",
       "5661    20191024                    74.60                      True   \n",
       "2326    20181014                    95.45                      True   \n",
       "3842    20210925                    79.60                      True   \n",
       "\n",
       "      contract_type_desc    phone_type_desc   internet_type_desc  \n",
       "6255      Month-to-Month           One Line                  DSL  \n",
       "6817      Month-to-Month  Two or More Lines          Fiber Optic  \n",
       "2637      Month-to-Month  Two or More Lines          Fiber Optic  \n",
       "828       Month-to-Month           One Line  No Internet Service  \n",
       "3519      Month-to-Month   No Phone Service                  DSL  \n",
       "5757      Month-to-Month  Two or More Lines          Fiber Optic  \n",
       "5269      Month-to-Month           One Line          Fiber Optic  \n",
       "452       Month-to-Month           One Line          Fiber Optic  \n",
       "2143      Month-to-Month  Two or More Lines          Fiber Optic  \n",
       "6485      Month-to-Month  Two or More Lines          Fiber Optic  \n",
       "3591      Month-to-Month           One Line  No Internet Service  \n",
       "5139      Month-to-Month  Two or More Lines          Fiber Optic  \n",
       "411       Month-to-Month  Two or More Lines          Fiber Optic  \n",
       "5134      Month-to-Month           One Line          Fiber Optic  \n",
       "5616      Month-to-Month   No Phone Service                  DSL  \n",
       "5871      Month-to-Month  Two or More Lines          Fiber Optic  \n",
       "4339      Month-to-Month           One Line  No Internet Service  \n",
       "5661      Month-to-Month           One Line          Fiber Optic  \n",
       "2326      Month-to-Month  Two or More Lines          Fiber Optic  \n",
       "3842      Month-to-Month           One Line          Fiber Optic  \n",
       "\n",
       "[20 rows x 29 columns]"
      ]
     },
     "execution_count": 12,
     "metadata": {},
     "output_type": "execute_result"
    }
   ],
   "source": [
    "data.sample(20)"
   ]
  },
  {
   "cell_type": "code",
   "execution_count": 13,
   "id": "298c5cf8",
   "metadata": {},
   "outputs": [
    {
     "data": {
      "text/plain": [
       "(3875, 29)"
      ]
     },
     "execution_count": 13,
     "metadata": {},
     "output_type": "execute_result"
    }
   ],
   "source": [
    "data.shape"
   ]
  },
  {
   "cell_type": "code",
   "execution_count": 14,
   "id": "ab41b0c4",
   "metadata": {},
   "outputs": [
    {
     "data": {
      "text/plain": [
       "gender                          object\n",
       "is_senior_citizen                int64\n",
       "partner                         object\n",
       "dependents                      object\n",
       "phone_service                    int64\n",
       "internet_service                 int64\n",
       "contract_type                    int64\n",
       "payment_type                    object\n",
       "monthly_charges                float64\n",
       "total_charges                  float64\n",
       "churn                           object\n",
       "tenure                           int64\n",
       "is_female                         bool\n",
       "has_churned                       bool\n",
       "has_phone                         bool\n",
       "has_internet                      bool\n",
       "has_phone_and_internet            bool\n",
       "partner_dependents               int64\n",
       "no_partners_no_dependents       object\n",
       "no_dependents_yes_partners      object\n",
       "dependents_no_partners          object\n",
       "yes_dependents_and_partners     object\n",
       "Unnamed: 23                    float64\n",
       "start_date                       int64\n",
       "average_monthly_charges        float64\n",
       "validate_monthly_charges          bool\n",
       "contract_type_desc              object\n",
       "phone_type_desc                 object\n",
       "internet_type_desc              object\n",
       "dtype: object"
      ]
     },
     "execution_count": 14,
     "metadata": {},
     "output_type": "execute_result"
    }
   ],
   "source": [
    "data.dtypes"
   ]
  },
  {
   "cell_type": "code",
   "execution_count": 15,
   "id": "2dd40509",
   "metadata": {},
   "outputs": [
    {
     "data": {
      "text/plain": [
       "12     No\n",
       "13    Yes\n",
       "14    Yes\n",
       "15    Yes\n",
       "16     No\n",
       "Name: churn, dtype: object"
      ]
     },
     "execution_count": 15,
     "metadata": {},
     "output_type": "execute_result"
    }
   ],
   "source": [
    "data.churn.head()"
   ]
  },
  {
   "cell_type": "code",
   "execution_count": 16,
   "id": "1884c6b0",
   "metadata": {},
   "outputs": [],
   "source": [
    "data.churn=data.churn.str.replace('No','0')\n",
    "data.churn=data.churn.str.replace('Yes','1')"
   ]
  },
  {
   "cell_type": "code",
   "execution_count": 17,
   "id": "56eebac3",
   "metadata": {},
   "outputs": [
    {
     "data": {
      "text/plain": [
       "12    0\n",
       "13    1\n",
       "14    1\n",
       "15    1\n",
       "16    0\n",
       "Name: churn, dtype: object"
      ]
     },
     "execution_count": 17,
     "metadata": {},
     "output_type": "execute_result"
    }
   ],
   "source": [
    "data.churn.head()"
   ]
  },
  {
   "cell_type": "code",
   "execution_count": 18,
   "id": "4b6e3539",
   "metadata": {},
   "outputs": [],
   "source": [
    "data.churn=data.churn.astype(int)"
   ]
  },
  {
   "cell_type": "code",
   "execution_count": 19,
   "id": "a9ebabec",
   "metadata": {},
   "outputs": [
    {
     "data": {
      "text/plain": [
       "12    0\n",
       "13    1\n",
       "14    1\n",
       "15    1\n",
       "16    0\n",
       "Name: churn, dtype: int64"
      ]
     },
     "execution_count": 19,
     "metadata": {},
     "output_type": "execute_result"
    }
   ],
   "source": [
    "data.churn.head()"
   ]
  },
  {
   "cell_type": "code",
   "execution_count": 20,
   "id": "bc2db6ce",
   "metadata": {},
   "outputs": [],
   "source": [
    "# Split data into training and testing set (i know I should do 3 for validation, but at this early exploration phase, I am not)\n",
    "\n",
    "y = data[\"churn\"].values\n",
    "X = data.drop(labels = [\"churn\"],axis = 1)\n"
   ]
  },
  {
   "cell_type": "code",
   "execution_count": 21,
   "id": "f0d3345e",
   "metadata": {},
   "outputs": [
    {
     "data": {
      "text/html": [
       "<div>\n",
       "<style scoped>\n",
       "    .dataframe tbody tr th:only-of-type {\n",
       "        vertical-align: middle;\n",
       "    }\n",
       "\n",
       "    .dataframe tbody tr th {\n",
       "        vertical-align: top;\n",
       "    }\n",
       "\n",
       "    .dataframe thead th {\n",
       "        text-align: right;\n",
       "    }\n",
       "</style>\n",
       "<table border=\"1\" class=\"dataframe\">\n",
       "  <thead>\n",
       "    <tr style=\"text-align: right;\">\n",
       "      <th></th>\n",
       "      <th>is_male</th>\n",
       "      <th>is_senior_citizen</th>\n",
       "      <th>partner</th>\n",
       "      <th>dependents</th>\n",
       "      <th>phone_service</th>\n",
       "      <th>internet_service</th>\n",
       "      <th>contract_type</th>\n",
       "      <th>payment_type</th>\n",
       "      <th>monthly_charges</th>\n",
       "      <th>total_charges</th>\n",
       "      <th>...</th>\n",
       "      <th>no_dependents_yes_partners</th>\n",
       "      <th>dependents_no_partners</th>\n",
       "      <th>yes_dependents_and_partners</th>\n",
       "      <th>Unnamed: 23</th>\n",
       "      <th>start_date</th>\n",
       "      <th>average_monthly_charges</th>\n",
       "      <th>validate_monthly_charges</th>\n",
       "      <th>contract_type_desc</th>\n",
       "      <th>phone_type_desc</th>\n",
       "      <th>internet_type_desc</th>\n",
       "    </tr>\n",
       "  </thead>\n",
       "  <tbody>\n",
       "    <tr>\n",
       "      <th>12</th>\n",
       "      <td>Male</td>\n",
       "      <td>0</td>\n",
       "      <td>No</td>\n",
       "      <td>No</td>\n",
       "      <td>2</td>\n",
       "      <td>1</td>\n",
       "      <td>0</td>\n",
       "      <td>Mailed check</td>\n",
       "      <td>59.9</td>\n",
       "      <td>542.40</td>\n",
       "      <td>...</td>\n",
       "      <td>NaN</td>\n",
       "      <td>NaN</td>\n",
       "      <td>NaN</td>\n",
       "      <td>NaN</td>\n",
       "      <td>20210123</td>\n",
       "      <td>59.9</td>\n",
       "      <td>True</td>\n",
       "      <td>Month-to-Month</td>\n",
       "      <td>Two or More Lines</td>\n",
       "      <td>DSL</td>\n",
       "    </tr>\n",
       "    <tr>\n",
       "      <th>13</th>\n",
       "      <td>Male</td>\n",
       "      <td>0</td>\n",
       "      <td>No</td>\n",
       "      <td>No</td>\n",
       "      <td>1</td>\n",
       "      <td>2</td>\n",
       "      <td>0</td>\n",
       "      <td>Electronic check</td>\n",
       "      <td>73.9</td>\n",
       "      <td>280.85</td>\n",
       "      <td>...</td>\n",
       "      <td>NaN</td>\n",
       "      <td>NaN</td>\n",
       "      <td>NaN</td>\n",
       "      <td>NaN</td>\n",
       "      <td>20210702</td>\n",
       "      <td>73.9</td>\n",
       "      <td>True</td>\n",
       "      <td>Month-to-Month</td>\n",
       "      <td>One Line</td>\n",
       "      <td>Fiber Optic</td>\n",
       "    </tr>\n",
       "    <tr>\n",
       "      <th>14</th>\n",
       "      <td>Male</td>\n",
       "      <td>1</td>\n",
       "      <td>Yes</td>\n",
       "      <td>No</td>\n",
       "      <td>1</td>\n",
       "      <td>2</td>\n",
       "      <td>0</td>\n",
       "      <td>Electronic check</td>\n",
       "      <td>98.0</td>\n",
       "      <td>1237.85</td>\n",
       "      <td>...</td>\n",
       "      <td>NaN</td>\n",
       "      <td>NaN</td>\n",
       "      <td>NaN</td>\n",
       "      <td>NaN</td>\n",
       "      <td>20201006</td>\n",
       "      <td>98.0</td>\n",
       "      <td>True</td>\n",
       "      <td>Month-to-Month</td>\n",
       "      <td>One Line</td>\n",
       "      <td>Fiber Optic</td>\n",
       "    </tr>\n",
       "    <tr>\n",
       "      <th>15</th>\n",
       "      <td>Female</td>\n",
       "      <td>1</td>\n",
       "      <td>Yes</td>\n",
       "      <td>No</td>\n",
       "      <td>1</td>\n",
       "      <td>2</td>\n",
       "      <td>0</td>\n",
       "      <td>Mailed check</td>\n",
       "      <td>83.9</td>\n",
       "      <td>267.40</td>\n",
       "      <td>...</td>\n",
       "      <td>NaN</td>\n",
       "      <td>NaN</td>\n",
       "      <td>NaN</td>\n",
       "      <td>NaN</td>\n",
       "      <td>20210721</td>\n",
       "      <td>83.9</td>\n",
       "      <td>True</td>\n",
       "      <td>Month-to-Month</td>\n",
       "      <td>One Line</td>\n",
       "      <td>Fiber Optic</td>\n",
       "    </tr>\n",
       "    <tr>\n",
       "      <th>16</th>\n",
       "      <td>Female</td>\n",
       "      <td>0</td>\n",
       "      <td>No</td>\n",
       "      <td>Yes</td>\n",
       "      <td>1</td>\n",
       "      <td>1</td>\n",
       "      <td>0</td>\n",
       "      <td>Credit card (automatic)</td>\n",
       "      <td>69.4</td>\n",
       "      <td>571.45</td>\n",
       "      <td>...</td>\n",
       "      <td>NaN</td>\n",
       "      <td>NaN</td>\n",
       "      <td>NaN</td>\n",
       "      <td>NaN</td>\n",
       "      <td>20210217</td>\n",
       "      <td>69.4</td>\n",
       "      <td>True</td>\n",
       "      <td>Month-to-Month</td>\n",
       "      <td>One Line</td>\n",
       "      <td>DSL</td>\n",
       "    </tr>\n",
       "  </tbody>\n",
       "</table>\n",
       "<p>5 rows × 29 columns</p>\n",
       "</div>"
      ],
      "text/plain": [
       "   is_male  is_senior_citizen partner dependents  phone_service  \\\n",
       "12    Male                  0      No         No              2   \n",
       "13    Male                  0      No         No              1   \n",
       "14    Male                  1     Yes         No              1   \n",
       "15  Female                  1     Yes         No              1   \n",
       "16  Female                  0      No        Yes              1   \n",
       "\n",
       "    internet_service  contract_type             payment_type  monthly_charges  \\\n",
       "12                 1              0             Mailed check             59.9   \n",
       "13                 2              0         Electronic check             73.9   \n",
       "14                 2              0         Electronic check             98.0   \n",
       "15                 2              0             Mailed check             83.9   \n",
       "16                 1              0  Credit card (automatic)             69.4   \n",
       "\n",
       "    total_charges  ...  no_dependents_yes_partners  dependents_no_partners  \\\n",
       "12         542.40  ...                         NaN                     NaN   \n",
       "13         280.85  ...                         NaN                     NaN   \n",
       "14        1237.85  ...                         NaN                     NaN   \n",
       "15         267.40  ...                         NaN                     NaN   \n",
       "16         571.45  ...                         NaN                     NaN   \n",
       "\n",
       "    yes_dependents_and_partners  Unnamed: 23  start_date  \\\n",
       "12                          NaN          NaN    20210123   \n",
       "13                          NaN          NaN    20210702   \n",
       "14                          NaN          NaN    20201006   \n",
       "15                          NaN          NaN    20210721   \n",
       "16                          NaN          NaN    20210217   \n",
       "\n",
       "    average_monthly_charges  validate_monthly_charges  contract_type_desc  \\\n",
       "12                     59.9                      True      Month-to-Month   \n",
       "13                     73.9                      True      Month-to-Month   \n",
       "14                     98.0                      True      Month-to-Month   \n",
       "15                     83.9                      True      Month-to-Month   \n",
       "16                     69.4                      True      Month-to-Month   \n",
       "\n",
       "      phone_type_desc internet_type_desc  \n",
       "12  Two or More Lines                DSL  \n",
       "13           One Line        Fiber Optic  \n",
       "14           One Line        Fiber Optic  \n",
       "15           One Line        Fiber Optic  \n",
       "16           One Line                DSL  \n",
       "\n",
       "[5 rows x 29 columns]"
      ]
     },
     "execution_count": 21,
     "metadata": {},
     "output_type": "execute_result"
    }
   ],
   "source": [
    "#do 0 / 1 conversion on sex\n",
    "data.rename(columns={'gender': 'is_male'}, inplace = True)\n",
    "data.head()"
   ]
  },
  {
   "cell_type": "code",
   "execution_count": 22,
   "id": "19978b4f",
   "metadata": {},
   "outputs": [],
   "source": [
    "data.is_male=data.is_male.str.replace('Male','1')\n",
    "data.is_male=data.is_male.str.replace('Female','0')\n",
    "data.is_male=data.is_male.astype(bool)"
   ]
  },
  {
   "cell_type": "code",
   "execution_count": 23,
   "id": "34de8208",
   "metadata": {},
   "outputs": [
    {
     "data": {
      "text/html": [
       "<div>\n",
       "<style scoped>\n",
       "    .dataframe tbody tr th:only-of-type {\n",
       "        vertical-align: middle;\n",
       "    }\n",
       "\n",
       "    .dataframe tbody tr th {\n",
       "        vertical-align: top;\n",
       "    }\n",
       "\n",
       "    .dataframe thead th {\n",
       "        text-align: right;\n",
       "    }\n",
       "</style>\n",
       "<table border=\"1\" class=\"dataframe\">\n",
       "  <thead>\n",
       "    <tr style=\"text-align: right;\">\n",
       "      <th></th>\n",
       "      <th>is_male</th>\n",
       "      <th>is_senior_citizen</th>\n",
       "      <th>partner</th>\n",
       "      <th>dependents</th>\n",
       "      <th>phone_service</th>\n",
       "      <th>internet_service</th>\n",
       "      <th>contract_type</th>\n",
       "      <th>payment_type</th>\n",
       "      <th>monthly_charges</th>\n",
       "      <th>total_charges</th>\n",
       "      <th>...</th>\n",
       "      <th>no_dependents_yes_partners</th>\n",
       "      <th>dependents_no_partners</th>\n",
       "      <th>yes_dependents_and_partners</th>\n",
       "      <th>Unnamed: 23</th>\n",
       "      <th>start_date</th>\n",
       "      <th>average_monthly_charges</th>\n",
       "      <th>validate_monthly_charges</th>\n",
       "      <th>contract_type_desc</th>\n",
       "      <th>phone_type_desc</th>\n",
       "      <th>internet_type_desc</th>\n",
       "    </tr>\n",
       "  </thead>\n",
       "  <tbody>\n",
       "    <tr>\n",
       "      <th>12</th>\n",
       "      <td>True</td>\n",
       "      <td>0</td>\n",
       "      <td>No</td>\n",
       "      <td>No</td>\n",
       "      <td>2</td>\n",
       "      <td>1</td>\n",
       "      <td>0</td>\n",
       "      <td>Mailed check</td>\n",
       "      <td>59.9</td>\n",
       "      <td>542.40</td>\n",
       "      <td>...</td>\n",
       "      <td>NaN</td>\n",
       "      <td>NaN</td>\n",
       "      <td>NaN</td>\n",
       "      <td>NaN</td>\n",
       "      <td>20210123</td>\n",
       "      <td>59.9</td>\n",
       "      <td>True</td>\n",
       "      <td>Month-to-Month</td>\n",
       "      <td>Two or More Lines</td>\n",
       "      <td>DSL</td>\n",
       "    </tr>\n",
       "    <tr>\n",
       "      <th>13</th>\n",
       "      <td>True</td>\n",
       "      <td>0</td>\n",
       "      <td>No</td>\n",
       "      <td>No</td>\n",
       "      <td>1</td>\n",
       "      <td>2</td>\n",
       "      <td>0</td>\n",
       "      <td>Electronic check</td>\n",
       "      <td>73.9</td>\n",
       "      <td>280.85</td>\n",
       "      <td>...</td>\n",
       "      <td>NaN</td>\n",
       "      <td>NaN</td>\n",
       "      <td>NaN</td>\n",
       "      <td>NaN</td>\n",
       "      <td>20210702</td>\n",
       "      <td>73.9</td>\n",
       "      <td>True</td>\n",
       "      <td>Month-to-Month</td>\n",
       "      <td>One Line</td>\n",
       "      <td>Fiber Optic</td>\n",
       "    </tr>\n",
       "    <tr>\n",
       "      <th>14</th>\n",
       "      <td>True</td>\n",
       "      <td>1</td>\n",
       "      <td>Yes</td>\n",
       "      <td>No</td>\n",
       "      <td>1</td>\n",
       "      <td>2</td>\n",
       "      <td>0</td>\n",
       "      <td>Electronic check</td>\n",
       "      <td>98.0</td>\n",
       "      <td>1237.85</td>\n",
       "      <td>...</td>\n",
       "      <td>NaN</td>\n",
       "      <td>NaN</td>\n",
       "      <td>NaN</td>\n",
       "      <td>NaN</td>\n",
       "      <td>20201006</td>\n",
       "      <td>98.0</td>\n",
       "      <td>True</td>\n",
       "      <td>Month-to-Month</td>\n",
       "      <td>One Line</td>\n",
       "      <td>Fiber Optic</td>\n",
       "    </tr>\n",
       "    <tr>\n",
       "      <th>15</th>\n",
       "      <td>True</td>\n",
       "      <td>1</td>\n",
       "      <td>Yes</td>\n",
       "      <td>No</td>\n",
       "      <td>1</td>\n",
       "      <td>2</td>\n",
       "      <td>0</td>\n",
       "      <td>Mailed check</td>\n",
       "      <td>83.9</td>\n",
       "      <td>267.40</td>\n",
       "      <td>...</td>\n",
       "      <td>NaN</td>\n",
       "      <td>NaN</td>\n",
       "      <td>NaN</td>\n",
       "      <td>NaN</td>\n",
       "      <td>20210721</td>\n",
       "      <td>83.9</td>\n",
       "      <td>True</td>\n",
       "      <td>Month-to-Month</td>\n",
       "      <td>One Line</td>\n",
       "      <td>Fiber Optic</td>\n",
       "    </tr>\n",
       "    <tr>\n",
       "      <th>16</th>\n",
       "      <td>True</td>\n",
       "      <td>0</td>\n",
       "      <td>No</td>\n",
       "      <td>Yes</td>\n",
       "      <td>1</td>\n",
       "      <td>1</td>\n",
       "      <td>0</td>\n",
       "      <td>Credit card (automatic)</td>\n",
       "      <td>69.4</td>\n",
       "      <td>571.45</td>\n",
       "      <td>...</td>\n",
       "      <td>NaN</td>\n",
       "      <td>NaN</td>\n",
       "      <td>NaN</td>\n",
       "      <td>NaN</td>\n",
       "      <td>20210217</td>\n",
       "      <td>69.4</td>\n",
       "      <td>True</td>\n",
       "      <td>Month-to-Month</td>\n",
       "      <td>One Line</td>\n",
       "      <td>DSL</td>\n",
       "    </tr>\n",
       "  </tbody>\n",
       "</table>\n",
       "<p>5 rows × 29 columns</p>\n",
       "</div>"
      ],
      "text/plain": [
       "    is_male  is_senior_citizen partner dependents  phone_service  \\\n",
       "12     True                  0      No         No              2   \n",
       "13     True                  0      No         No              1   \n",
       "14     True                  1     Yes         No              1   \n",
       "15     True                  1     Yes         No              1   \n",
       "16     True                  0      No        Yes              1   \n",
       "\n",
       "    internet_service  contract_type             payment_type  monthly_charges  \\\n",
       "12                 1              0             Mailed check             59.9   \n",
       "13                 2              0         Electronic check             73.9   \n",
       "14                 2              0         Electronic check             98.0   \n",
       "15                 2              0             Mailed check             83.9   \n",
       "16                 1              0  Credit card (automatic)             69.4   \n",
       "\n",
       "    total_charges  ...  no_dependents_yes_partners  dependents_no_partners  \\\n",
       "12         542.40  ...                         NaN                     NaN   \n",
       "13         280.85  ...                         NaN                     NaN   \n",
       "14        1237.85  ...                         NaN                     NaN   \n",
       "15         267.40  ...                         NaN                     NaN   \n",
       "16         571.45  ...                         NaN                     NaN   \n",
       "\n",
       "    yes_dependents_and_partners  Unnamed: 23  start_date  \\\n",
       "12                          NaN          NaN    20210123   \n",
       "13                          NaN          NaN    20210702   \n",
       "14                          NaN          NaN    20201006   \n",
       "15                          NaN          NaN    20210721   \n",
       "16                          NaN          NaN    20210217   \n",
       "\n",
       "    average_monthly_charges  validate_monthly_charges  contract_type_desc  \\\n",
       "12                     59.9                      True      Month-to-Month   \n",
       "13                     73.9                      True      Month-to-Month   \n",
       "14                     98.0                      True      Month-to-Month   \n",
       "15                     83.9                      True      Month-to-Month   \n",
       "16                     69.4                      True      Month-to-Month   \n",
       "\n",
       "      phone_type_desc internet_type_desc  \n",
       "12  Two or More Lines                DSL  \n",
       "13           One Line        Fiber Optic  \n",
       "14           One Line        Fiber Optic  \n",
       "15           One Line        Fiber Optic  \n",
       "16           One Line                DSL  \n",
       "\n",
       "[5 rows x 29 columns]"
      ]
     },
     "execution_count": 23,
     "metadata": {},
     "output_type": "execute_result"
    }
   ],
   "source": [
    "data.head()"
   ]
  },
  {
   "cell_type": "code",
   "execution_count": 24,
   "id": "5608bcbb",
   "metadata": {},
   "outputs": [],
   "source": [
    "# Create Train & Test Data\n",
    "from sklearn.model_selection import train_test_split\n",
    "X_train, X_test, y_train, y_test = train_test_split(X, y, test_size=0.2, random_state=101)"
   ]
  },
  {
   "cell_type": "code",
   "execution_count": 25,
   "id": "e3158cbf",
   "metadata": {},
   "outputs": [
    {
     "data": {
      "text/html": [
       "<div>\n",
       "<style scoped>\n",
       "    .dataframe tbody tr th:only-of-type {\n",
       "        vertical-align: middle;\n",
       "    }\n",
       "\n",
       "    .dataframe tbody tr th {\n",
       "        vertical-align: top;\n",
       "    }\n",
       "\n",
       "    .dataframe thead th {\n",
       "        text-align: right;\n",
       "    }\n",
       "</style>\n",
       "<table border=\"1\" class=\"dataframe\">\n",
       "  <thead>\n",
       "    <tr style=\"text-align: right;\">\n",
       "      <th></th>\n",
       "      <th>is_senior_citizen</th>\n",
       "      <th>phone_service</th>\n",
       "      <th>internet_service</th>\n",
       "      <th>contract_type</th>\n",
       "      <th>monthly_charges</th>\n",
       "      <th>total_charges</th>\n",
       "      <th>tenure</th>\n",
       "      <th>partner_dependents</th>\n",
       "      <th>Unnamed: 23</th>\n",
       "      <th>start_date</th>\n",
       "      <th>average_monthly_charges</th>\n",
       "    </tr>\n",
       "  </thead>\n",
       "  <tbody>\n",
       "    <tr>\n",
       "      <th>count</th>\n",
       "      <td>3100.00000</td>\n",
       "      <td>3100.000000</td>\n",
       "      <td>3100.000000</td>\n",
       "      <td>3100.0</td>\n",
       "      <td>3100.000000</td>\n",
       "      <td>3100.000000</td>\n",
       "      <td>3100.000000</td>\n",
       "      <td>3100.000000</td>\n",
       "      <td>0.0</td>\n",
       "      <td>3.100000e+03</td>\n",
       "      <td>3100.000000</td>\n",
       "    </tr>\n",
       "    <tr>\n",
       "      <th>mean</th>\n",
       "      <td>0.21129</td>\n",
       "      <td>1.283226</td>\n",
       "      <td>1.414194</td>\n",
       "      <td>0.0</td>\n",
       "      <td>66.449048</td>\n",
       "      <td>1388.032887</td>\n",
       "      <td>18.232903</td>\n",
       "      <td>0.758065</td>\n",
       "      <td>NaN</td>\n",
       "      <td>2.019838e+07</td>\n",
       "      <td>66.449048</td>\n",
       "    </tr>\n",
       "    <tr>\n",
       "      <th>std</th>\n",
       "      <td>0.40829</td>\n",
       "      <td>0.631876</td>\n",
       "      <td>0.716328</td>\n",
       "      <td>0.0</td>\n",
       "      <td>26.990510</td>\n",
       "      <td>1637.967284</td>\n",
       "      <td>17.983337</td>\n",
       "      <td>1.087129</td>\n",
       "      <td>NaN</td>\n",
       "      <td>1.484411e+04</td>\n",
       "      <td>26.990510</td>\n",
       "    </tr>\n",
       "    <tr>\n",
       "      <th>min</th>\n",
       "      <td>0.00000</td>\n",
       "      <td>0.000000</td>\n",
       "      <td>0.000000</td>\n",
       "      <td>0.0</td>\n",
       "      <td>18.750000</td>\n",
       "      <td>18.850000</td>\n",
       "      <td>1.000000</td>\n",
       "      <td>0.000000</td>\n",
       "      <td>NaN</td>\n",
       "      <td>2.015103e+07</td>\n",
       "      <td>18.750000</td>\n",
       "    </tr>\n",
       "    <tr>\n",
       "      <th>25%</th>\n",
       "      <td>0.00000</td>\n",
       "      <td>1.000000</td>\n",
       "      <td>1.000000</td>\n",
       "      <td>0.0</td>\n",
       "      <td>45.900000</td>\n",
       "      <td>161.075000</td>\n",
       "      <td>3.000000</td>\n",
       "      <td>0.000000</td>\n",
       "      <td>NaN</td>\n",
       "      <td>2.019061e+07</td>\n",
       "      <td>45.900000</td>\n",
       "    </tr>\n",
       "    <tr>\n",
       "      <th>50%</th>\n",
       "      <td>0.00000</td>\n",
       "      <td>1.000000</td>\n",
       "      <td>2.000000</td>\n",
       "      <td>0.0</td>\n",
       "      <td>73.550000</td>\n",
       "      <td>679.675000</td>\n",
       "      <td>12.000000</td>\n",
       "      <td>0.000000</td>\n",
       "      <td>NaN</td>\n",
       "      <td>2.020103e+07</td>\n",
       "      <td>73.550000</td>\n",
       "    </tr>\n",
       "    <tr>\n",
       "      <th>75%</th>\n",
       "      <td>0.00000</td>\n",
       "      <td>2.000000</td>\n",
       "      <td>2.000000</td>\n",
       "      <td>0.0</td>\n",
       "      <td>88.962500</td>\n",
       "      <td>2088.150000</td>\n",
       "      <td>29.000000</td>\n",
       "      <td>1.000000</td>\n",
       "      <td>NaN</td>\n",
       "      <td>2.021072e+07</td>\n",
       "      <td>88.962500</td>\n",
       "    </tr>\n",
       "    <tr>\n",
       "      <th>max</th>\n",
       "      <td>1.00000</td>\n",
       "      <td>2.000000</td>\n",
       "      <td>2.000000</td>\n",
       "      <td>0.0</td>\n",
       "      <td>117.450000</td>\n",
       "      <td>8061.500000</td>\n",
       "      <td>72.000000</td>\n",
       "      <td>3.000000</td>\n",
       "      <td>NaN</td>\n",
       "      <td>2.021092e+07</td>\n",
       "      <td>117.450000</td>\n",
       "    </tr>\n",
       "  </tbody>\n",
       "</table>\n",
       "</div>"
      ],
      "text/plain": [
       "       is_senior_citizen  phone_service  internet_service  contract_type  \\\n",
       "count         3100.00000    3100.000000       3100.000000         3100.0   \n",
       "mean             0.21129       1.283226          1.414194            0.0   \n",
       "std              0.40829       0.631876          0.716328            0.0   \n",
       "min              0.00000       0.000000          0.000000            0.0   \n",
       "25%              0.00000       1.000000          1.000000            0.0   \n",
       "50%              0.00000       1.000000          2.000000            0.0   \n",
       "75%              0.00000       2.000000          2.000000            0.0   \n",
       "max              1.00000       2.000000          2.000000            0.0   \n",
       "\n",
       "       monthly_charges  total_charges       tenure  partner_dependents  \\\n",
       "count      3100.000000    3100.000000  3100.000000         3100.000000   \n",
       "mean         66.449048    1388.032887    18.232903            0.758065   \n",
       "std          26.990510    1637.967284    17.983337            1.087129   \n",
       "min          18.750000      18.850000     1.000000            0.000000   \n",
       "25%          45.900000     161.075000     3.000000            0.000000   \n",
       "50%          73.550000     679.675000    12.000000            0.000000   \n",
       "75%          88.962500    2088.150000    29.000000            1.000000   \n",
       "max         117.450000    8061.500000    72.000000            3.000000   \n",
       "\n",
       "       Unnamed: 23    start_date  average_monthly_charges  \n",
       "count          0.0  3.100000e+03              3100.000000  \n",
       "mean           NaN  2.019838e+07                66.449048  \n",
       "std            NaN  1.484411e+04                26.990510  \n",
       "min            NaN  2.015103e+07                18.750000  \n",
       "25%            NaN  2.019061e+07                45.900000  \n",
       "50%            NaN  2.020103e+07                73.550000  \n",
       "75%            NaN  2.021072e+07                88.962500  \n",
       "max            NaN  2.021092e+07               117.450000  "
      ]
     },
     "execution_count": 25,
     "metadata": {},
     "output_type": "execute_result"
    }
   ],
   "source": [
    "X_train.describe()"
   ]
  },
  {
   "cell_type": "code",
   "execution_count": 26,
   "id": "7c4a154d",
   "metadata": {},
   "outputs": [
    {
     "data": {
      "text/html": [
       "<div>\n",
       "<style scoped>\n",
       "    .dataframe tbody tr th:only-of-type {\n",
       "        vertical-align: middle;\n",
       "    }\n",
       "\n",
       "    .dataframe tbody tr th {\n",
       "        vertical-align: top;\n",
       "    }\n",
       "\n",
       "    .dataframe thead th {\n",
       "        text-align: right;\n",
       "    }\n",
       "</style>\n",
       "<table border=\"1\" class=\"dataframe\">\n",
       "  <thead>\n",
       "    <tr style=\"text-align: right;\">\n",
       "      <th></th>\n",
       "      <th>is_senior_citizen</th>\n",
       "      <th>phone_service</th>\n",
       "      <th>internet_service</th>\n",
       "      <th>contract_type</th>\n",
       "      <th>monthly_charges</th>\n",
       "      <th>total_charges</th>\n",
       "      <th>tenure</th>\n",
       "      <th>partner_dependents</th>\n",
       "      <th>Unnamed: 23</th>\n",
       "      <th>start_date</th>\n",
       "      <th>average_monthly_charges</th>\n",
       "    </tr>\n",
       "  </thead>\n",
       "  <tbody>\n",
       "    <tr>\n",
       "      <th>count</th>\n",
       "      <td>775.000000</td>\n",
       "      <td>775.000000</td>\n",
       "      <td>775.000000</td>\n",
       "      <td>775.0</td>\n",
       "      <td>775.000000</td>\n",
       "      <td>775.000000</td>\n",
       "      <td>775.000000</td>\n",
       "      <td>775.000000</td>\n",
       "      <td>0.0</td>\n",
       "      <td>7.750000e+02</td>\n",
       "      <td>775.000000</td>\n",
       "    </tr>\n",
       "    <tr>\n",
       "      <th>mean</th>\n",
       "      <td>0.196129</td>\n",
       "      <td>1.294194</td>\n",
       "      <td>1.412903</td>\n",
       "      <td>0.0</td>\n",
       "      <td>66.196258</td>\n",
       "      <td>1294.141355</td>\n",
       "      <td>17.174194</td>\n",
       "      <td>0.784516</td>\n",
       "      <td>NaN</td>\n",
       "      <td>2.019935e+07</td>\n",
       "      <td>66.196258</td>\n",
       "    </tr>\n",
       "    <tr>\n",
       "      <th>std</th>\n",
       "      <td>0.397324</td>\n",
       "      <td>0.627661</td>\n",
       "      <td>0.716969</td>\n",
       "      <td>0.0</td>\n",
       "      <td>26.685771</td>\n",
       "      <td>1512.375569</td>\n",
       "      <td>16.523395</td>\n",
       "      <td>1.103796</td>\n",
       "      <td>NaN</td>\n",
       "      <td>1.355509e+04</td>\n",
       "      <td>26.685771</td>\n",
       "    </tr>\n",
       "    <tr>\n",
       "      <th>min</th>\n",
       "      <td>0.000000</td>\n",
       "      <td>0.000000</td>\n",
       "      <td>0.000000</td>\n",
       "      <td>0.0</td>\n",
       "      <td>19.200000</td>\n",
       "      <td>19.200000</td>\n",
       "      <td>1.000000</td>\n",
       "      <td>0.000000</td>\n",
       "      <td>NaN</td>\n",
       "      <td>2.015111e+07</td>\n",
       "      <td>19.200000</td>\n",
       "    </tr>\n",
       "    <tr>\n",
       "      <th>25%</th>\n",
       "      <td>0.000000</td>\n",
       "      <td>1.000000</td>\n",
       "      <td>1.000000</td>\n",
       "      <td>0.0</td>\n",
       "      <td>45.525000</td>\n",
       "      <td>157.200000</td>\n",
       "      <td>3.000000</td>\n",
       "      <td>0.000000</td>\n",
       "      <td>NaN</td>\n",
       "      <td>2.019081e+07</td>\n",
       "      <td>45.525000</td>\n",
       "    </tr>\n",
       "    <tr>\n",
       "      <th>50%</th>\n",
       "      <td>0.000000</td>\n",
       "      <td>1.000000</td>\n",
       "      <td>2.000000</td>\n",
       "      <td>0.0</td>\n",
       "      <td>71.350000</td>\n",
       "      <td>679.550000</td>\n",
       "      <td>12.000000</td>\n",
       "      <td>0.000000</td>\n",
       "      <td>NaN</td>\n",
       "      <td>2.020111e+07</td>\n",
       "      <td>71.350000</td>\n",
       "    </tr>\n",
       "    <tr>\n",
       "      <th>75%</th>\n",
       "      <td>0.000000</td>\n",
       "      <td>2.000000</td>\n",
       "      <td>2.000000</td>\n",
       "      <td>0.0</td>\n",
       "      <td>88.175000</td>\n",
       "      <td>1921.800000</td>\n",
       "      <td>27.000000</td>\n",
       "      <td>1.000000</td>\n",
       "      <td>NaN</td>\n",
       "      <td>2.021072e+07</td>\n",
       "      <td>88.175000</td>\n",
       "    </tr>\n",
       "    <tr>\n",
       "      <th>max</th>\n",
       "      <td>1.000000</td>\n",
       "      <td>2.000000</td>\n",
       "      <td>2.000000</td>\n",
       "      <td>0.0</td>\n",
       "      <td>116.500000</td>\n",
       "      <td>7320.900000</td>\n",
       "      <td>72.000000</td>\n",
       "      <td>3.000000</td>\n",
       "      <td>NaN</td>\n",
       "      <td>2.021092e+07</td>\n",
       "      <td>116.500000</td>\n",
       "    </tr>\n",
       "  </tbody>\n",
       "</table>\n",
       "</div>"
      ],
      "text/plain": [
       "       is_senior_citizen  phone_service  internet_service  contract_type  \\\n",
       "count         775.000000     775.000000        775.000000          775.0   \n",
       "mean            0.196129       1.294194          1.412903            0.0   \n",
       "std             0.397324       0.627661          0.716969            0.0   \n",
       "min             0.000000       0.000000          0.000000            0.0   \n",
       "25%             0.000000       1.000000          1.000000            0.0   \n",
       "50%             0.000000       1.000000          2.000000            0.0   \n",
       "75%             0.000000       2.000000          2.000000            0.0   \n",
       "max             1.000000       2.000000          2.000000            0.0   \n",
       "\n",
       "       monthly_charges  total_charges      tenure  partner_dependents  \\\n",
       "count       775.000000     775.000000  775.000000          775.000000   \n",
       "mean         66.196258    1294.141355   17.174194            0.784516   \n",
       "std          26.685771    1512.375569   16.523395            1.103796   \n",
       "min          19.200000      19.200000    1.000000            0.000000   \n",
       "25%          45.525000     157.200000    3.000000            0.000000   \n",
       "50%          71.350000     679.550000   12.000000            0.000000   \n",
       "75%          88.175000    1921.800000   27.000000            1.000000   \n",
       "max         116.500000    7320.900000   72.000000            3.000000   \n",
       "\n",
       "       Unnamed: 23    start_date  average_monthly_charges  \n",
       "count          0.0  7.750000e+02               775.000000  \n",
       "mean           NaN  2.019935e+07                66.196258  \n",
       "std            NaN  1.355509e+04                26.685771  \n",
       "min            NaN  2.015111e+07                19.200000  \n",
       "25%            NaN  2.019081e+07                45.525000  \n",
       "50%            NaN  2.020111e+07                71.350000  \n",
       "75%            NaN  2.021072e+07                88.175000  \n",
       "max            NaN  2.021092e+07               116.500000  "
      ]
     },
     "execution_count": 26,
     "metadata": {},
     "output_type": "execute_result"
    }
   ],
   "source": [
    "X_test.describe()"
   ]
  },
  {
   "cell_type": "code",
   "execution_count": 27,
   "id": "2ae611a8",
   "metadata": {},
   "outputs": [
    {
     "data": {
      "text/plain": [
       "array([0, 1, 0, ..., 0, 1, 0])"
      ]
     },
     "execution_count": 27,
     "metadata": {},
     "output_type": "execute_result"
    }
   ],
   "source": [
    "y_train"
   ]
  },
  {
   "cell_type": "code",
   "execution_count": 28,
   "id": "cc2ba437",
   "metadata": {},
   "outputs": [
    {
     "data": {
      "text/plain": [
       "array([1, 0, 0, 0, 1, 0, 1, 1, 0, 1, 0, 1, 0, 1, 0, 1, 1, 0, 0, 1, 0, 1,\n",
       "       1, 1, 0, 0, 1, 1, 0, 1, 1, 1, 0, 1, 1, 0, 0, 0, 0, 0, 0, 0, 1, 1,\n",
       "       0, 0, 1, 1, 1, 1, 1, 0, 1, 1, 1, 0, 1, 1, 1, 0, 0, 1, 0, 0, 0, 0,\n",
       "       1, 1, 1, 1, 0, 1, 0, 1, 1, 0, 0, 0, 0, 1, 1, 0, 0, 0, 1, 1, 0, 0,\n",
       "       1, 0, 0, 0, 1, 1, 1, 0, 0, 0, 0, 0, 0, 0, 0, 1, 0, 0, 0, 0, 1, 0,\n",
       "       0, 0, 0, 0, 1, 0, 1, 1, 0, 1, 0, 0, 1, 0, 1, 1, 0, 1, 0, 1, 1, 1,\n",
       "       1, 1, 0, 0, 1, 0, 1, 0, 0, 1, 0, 0, 0, 0, 1, 1, 1, 1, 0, 1, 1, 1,\n",
       "       0, 0, 0, 1, 1, 0, 0, 1, 0, 0, 1, 0, 0, 0, 0, 1, 0, 0, 1, 0, 0, 0,\n",
       "       1, 0, 0, 0, 0, 1, 0, 1, 0, 0, 0, 0, 0, 1, 1, 0, 1, 1, 0, 0, 1, 1,\n",
       "       0, 1, 0, 1, 0, 0, 1, 0, 0, 0, 1, 1, 1, 1, 1, 0, 1, 0, 0, 0, 1, 0,\n",
       "       0, 0, 1, 0, 1, 0, 1, 0, 1, 1, 1, 1, 0, 1, 0, 0, 0, 0, 0, 0, 1, 0,\n",
       "       0, 0, 1, 0, 1, 1, 1, 0, 0, 1, 0, 0, 0, 0, 1, 0, 1, 1, 0, 0, 0, 1,\n",
       "       0, 0, 1, 1, 1, 0, 1, 0, 0, 0, 1, 1, 0, 0, 0, 1, 0, 1, 0, 0, 0, 0,\n",
       "       1, 0, 0, 1, 1, 0, 1, 1, 1, 0, 1, 1, 0, 0, 0, 0, 1, 0, 1, 0, 0, 1,\n",
       "       0, 1, 1, 0, 1, 1, 0, 0, 1, 1, 1, 1, 0, 1, 1, 0, 0, 1, 0, 0, 0, 1,\n",
       "       0, 1, 1, 0, 1, 0, 0, 1, 0, 1, 1, 0, 1, 0, 1, 0, 0, 1, 0, 1, 1, 1,\n",
       "       0, 1, 1, 1, 1, 0, 0, 0, 0, 1, 0, 0, 1, 0, 1, 1, 0, 1, 1, 0, 1, 0,\n",
       "       0, 1, 1, 0, 0, 0, 1, 0, 0, 1, 0, 1, 0, 1, 1, 0, 0, 1, 1, 0, 0, 0,\n",
       "       1, 1, 0, 1, 1, 0, 1, 1, 0, 0, 0, 1, 1, 0, 0, 0, 1, 0, 0, 1, 1, 1,\n",
       "       0, 0, 0, 0, 0, 0, 0, 1, 0, 0, 0, 0, 1, 0, 1, 0, 1, 0, 0, 0, 1, 0,\n",
       "       0, 0, 0, 1, 1, 0, 0, 1, 0, 0, 0, 0, 1, 0, 1, 0, 0, 0, 0, 0, 0, 0,\n",
       "       0, 0, 0, 0, 1, 0, 1, 1, 1, 0, 1, 0, 1, 0, 0, 0, 0, 0, 0, 0, 1, 0,\n",
       "       0, 1, 0, 1, 1, 0, 0, 0, 0, 0, 1, 1, 1, 0, 1, 1, 0, 0, 1, 0, 0, 1,\n",
       "       0, 0, 0, 1, 0, 0, 0, 0, 1, 0, 0, 0, 0, 0, 0, 1, 0, 0, 1, 1, 0, 0,\n",
       "       0, 0, 1, 0, 1, 0, 0, 0, 1, 0, 0, 1, 0, 0, 0, 0, 1, 0, 1, 1, 0, 1,\n",
       "       1, 1, 1, 1, 1, 1, 1, 1, 0, 0, 1, 1, 1, 0, 0, 0, 0, 1, 0, 0, 0, 0,\n",
       "       0, 0, 0, 1, 1, 1, 0, 0, 1, 1, 1, 1, 0, 0, 0, 1, 0, 1, 0, 0, 1, 0,\n",
       "       1, 0, 1, 1, 0, 0, 0, 1, 0, 1, 1, 0, 1, 1, 1, 0, 1, 0, 0, 1, 1, 0,\n",
       "       0, 1, 1, 1, 0, 1, 0, 1, 0, 1, 0, 1, 0, 0, 1, 1, 1, 0, 1, 0, 1, 0,\n",
       "       0, 0, 0, 0, 0, 0, 0, 0, 0, 1, 1, 0, 1, 1, 0, 1, 0, 0, 0, 0, 0, 1,\n",
       "       0, 0, 0, 0, 0, 0, 0, 1, 0, 1, 0, 0, 1, 1, 1, 1, 0, 0, 1, 0, 1, 1,\n",
       "       1, 1, 0, 1, 1, 1, 0, 0, 1, 0, 0, 0, 0, 0, 1, 0, 1, 1, 0, 1, 0, 0,\n",
       "       0, 1, 0, 0, 1, 0, 0, 0, 1, 0, 0, 0, 1, 0, 1, 1, 1, 1, 1, 0, 0, 1,\n",
       "       1, 0, 0, 0, 1, 0, 1, 0, 0, 1, 1, 1, 0, 0, 0, 1, 0, 1, 0, 0, 1, 1,\n",
       "       1, 0, 0, 0, 0, 0, 1, 0, 0, 0, 1, 0, 1, 0, 0, 0, 0, 1, 0, 1, 0, 0,\n",
       "       0, 1, 1, 0, 0])"
      ]
     },
     "execution_count": 28,
     "metadata": {},
     "output_type": "execute_result"
    }
   ],
   "source": [
    "y_test"
   ]
  },
  {
   "cell_type": "code",
   "execution_count": 29,
   "id": "3812c95b",
   "metadata": {},
   "outputs": [
    {
     "data": {
      "text/plain": [
       "is_male                           bool\n",
       "is_senior_citizen                int64\n",
       "partner                         object\n",
       "dependents                      object\n",
       "phone_service                    int64\n",
       "internet_service                 int64\n",
       "contract_type                    int64\n",
       "payment_type                    object\n",
       "monthly_charges                float64\n",
       "total_charges                  float64\n",
       "churn                            int64\n",
       "tenure                           int64\n",
       "is_female                         bool\n",
       "has_churned                       bool\n",
       "has_phone                         bool\n",
       "has_internet                      bool\n",
       "has_phone_and_internet            bool\n",
       "partner_dependents               int64\n",
       "no_partners_no_dependents       object\n",
       "no_dependents_yes_partners      object\n",
       "dependents_no_partners          object\n",
       "yes_dependents_and_partners     object\n",
       "Unnamed: 23                    float64\n",
       "start_date                       int64\n",
       "average_monthly_charges        float64\n",
       "validate_monthly_charges          bool\n",
       "contract_type_desc              object\n",
       "phone_type_desc                 object\n",
       "internet_type_desc              object\n",
       "dtype: object"
      ]
     },
     "execution_count": 29,
     "metadata": {},
     "output_type": "execute_result"
    }
   ],
   "source": [
    "data.dtypes\n"
   ]
  },
  {
   "cell_type": "code",
   "execution_count": 30,
   "id": "8d9a7f35",
   "metadata": {},
   "outputs": [
    {
     "data": {
      "text/html": [
       "<div>\n",
       "<style scoped>\n",
       "    .dataframe tbody tr th:only-of-type {\n",
       "        vertical-align: middle;\n",
       "    }\n",
       "\n",
       "    .dataframe tbody tr th {\n",
       "        vertical-align: top;\n",
       "    }\n",
       "\n",
       "    .dataframe thead th {\n",
       "        text-align: right;\n",
       "    }\n",
       "</style>\n",
       "<table border=\"1\" class=\"dataframe\">\n",
       "  <thead>\n",
       "    <tr style=\"text-align: right;\">\n",
       "      <th></th>\n",
       "      <th>is_male</th>\n",
       "      <th>is_senior_citizen</th>\n",
       "      <th>partner</th>\n",
       "      <th>dependents</th>\n",
       "      <th>phone_service</th>\n",
       "      <th>internet_service</th>\n",
       "      <th>contract_type</th>\n",
       "      <th>payment_type</th>\n",
       "      <th>monthly_charges</th>\n",
       "      <th>total_charges</th>\n",
       "      <th>...</th>\n",
       "      <th>no_dependents_yes_partners</th>\n",
       "      <th>dependents_no_partners</th>\n",
       "      <th>yes_dependents_and_partners</th>\n",
       "      <th>Unnamed: 23</th>\n",
       "      <th>start_date</th>\n",
       "      <th>average_monthly_charges</th>\n",
       "      <th>validate_monthly_charges</th>\n",
       "      <th>contract_type_desc</th>\n",
       "      <th>phone_type_desc</th>\n",
       "      <th>internet_type_desc</th>\n",
       "    </tr>\n",
       "  </thead>\n",
       "  <tbody>\n",
       "  </tbody>\n",
       "</table>\n",
       "<p>0 rows × 29 columns</p>\n",
       "</div>"
      ],
      "text/plain": [
       "Empty DataFrame\n",
       "Columns: [is_male, is_senior_citizen, partner, dependents, phone_service, internet_service, contract_type, payment_type, monthly_charges, total_charges, churn, tenure, is_female, has_churned, has_phone, has_internet, has_phone_and_internet, partner_dependents, no_partners_no_dependents, no_dependents_yes_partners, dependents_no_partners, yes_dependents_and_partners, Unnamed: 23, start_date, average_monthly_charges, validate_monthly_charges, contract_type_desc, phone_type_desc, internet_type_desc]\n",
       "Index: []\n",
       "\n",
       "[0 rows x 29 columns]"
      ]
     },
     "execution_count": 30,
     "metadata": {},
     "output_type": "execute_result"
    }
   ],
   "source": [
    "data[data.eq(\"Male\").any(1)]\n"
   ]
  },
  {
   "cell_type": "code",
   "execution_count": 31,
   "id": "aeb95dcc",
   "metadata": {},
   "outputs": [
    {
     "data": {
      "text/html": [
       "<div>\n",
       "<style scoped>\n",
       "    .dataframe tbody tr th:only-of-type {\n",
       "        vertical-align: middle;\n",
       "    }\n",
       "\n",
       "    .dataframe tbody tr th {\n",
       "        vertical-align: top;\n",
       "    }\n",
       "\n",
       "    .dataframe thead th {\n",
       "        text-align: right;\n",
       "    }\n",
       "</style>\n",
       "<table border=\"1\" class=\"dataframe\">\n",
       "  <thead>\n",
       "    <tr style=\"text-align: right;\">\n",
       "      <th></th>\n",
       "      <th>gender</th>\n",
       "      <th>is_senior_citizen</th>\n",
       "      <th>partner</th>\n",
       "      <th>dependents</th>\n",
       "      <th>phone_service</th>\n",
       "      <th>internet_service</th>\n",
       "      <th>contract_type</th>\n",
       "      <th>payment_type</th>\n",
       "      <th>monthly_charges</th>\n",
       "      <th>total_charges</th>\n",
       "      <th>...</th>\n",
       "      <th>no_dependents_yes_partners</th>\n",
       "      <th>dependents_no_partners</th>\n",
       "      <th>yes_dependents_and_partners</th>\n",
       "      <th>Unnamed: 23</th>\n",
       "      <th>start_date</th>\n",
       "      <th>average_monthly_charges</th>\n",
       "      <th>validate_monthly_charges</th>\n",
       "      <th>contract_type_desc</th>\n",
       "      <th>phone_type_desc</th>\n",
       "      <th>internet_type_desc</th>\n",
       "    </tr>\n",
       "  </thead>\n",
       "  <tbody>\n",
       "    <tr>\n",
       "      <th>5263</th>\n",
       "      <td>Male</td>\n",
       "      <td>0</td>\n",
       "      <td>No</td>\n",
       "      <td>No</td>\n",
       "      <td>1</td>\n",
       "      <td>2</td>\n",
       "      <td>0</td>\n",
       "      <td>Mailed check</td>\n",
       "      <td>79.85</td>\n",
       "      <td>887.35</td>\n",
       "      <td>...</td>\n",
       "      <td>NaN</td>\n",
       "      <td>NaN</td>\n",
       "      <td>NaN</td>\n",
       "      <td>NaN</td>\n",
       "      <td>20201121</td>\n",
       "      <td>79.85</td>\n",
       "      <td>True</td>\n",
       "      <td>Month-to-Month</td>\n",
       "      <td>One Line</td>\n",
       "      <td>Fiber Optic</td>\n",
       "    </tr>\n",
       "    <tr>\n",
       "      <th>5500</th>\n",
       "      <td>Male</td>\n",
       "      <td>0</td>\n",
       "      <td>Yes</td>\n",
       "      <td>Yes</td>\n",
       "      <td>1</td>\n",
       "      <td>1</td>\n",
       "      <td>0</td>\n",
       "      <td>Electronic check</td>\n",
       "      <td>51.05</td>\n",
       "      <td>415.05</td>\n",
       "      <td>...</td>\n",
       "      <td>NaN</td>\n",
       "      <td>NaN</td>\n",
       "      <td>NaN</td>\n",
       "      <td>NaN</td>\n",
       "      <td>20210220</td>\n",
       "      <td>51.05</td>\n",
       "      <td>True</td>\n",
       "      <td>Month-to-Month</td>\n",
       "      <td>One Line</td>\n",
       "      <td>DSL</td>\n",
       "    </tr>\n",
       "    <tr>\n",
       "      <th>5989</th>\n",
       "      <td>Male</td>\n",
       "      <td>0</td>\n",
       "      <td>No</td>\n",
       "      <td>Yes</td>\n",
       "      <td>2</td>\n",
       "      <td>1</td>\n",
       "      <td>0</td>\n",
       "      <td>Electronic check</td>\n",
       "      <td>50.05</td>\n",
       "      <td>50.05</td>\n",
       "      <td>...</td>\n",
       "      <td>NaN</td>\n",
       "      <td>NaN</td>\n",
       "      <td>NaN</td>\n",
       "      <td>NaN</td>\n",
       "      <td>20210925</td>\n",
       "      <td>50.05</td>\n",
       "      <td>True</td>\n",
       "      <td>Month-to-Month</td>\n",
       "      <td>Two or More Lines</td>\n",
       "      <td>DSL</td>\n",
       "    </tr>\n",
       "    <tr>\n",
       "      <th>4129</th>\n",
       "      <td>Male</td>\n",
       "      <td>0</td>\n",
       "      <td>No</td>\n",
       "      <td>No</td>\n",
       "      <td>1</td>\n",
       "      <td>2</td>\n",
       "      <td>0</td>\n",
       "      <td>Credit card (automatic)</td>\n",
       "      <td>74.55</td>\n",
       "      <td>1170.50</td>\n",
       "      <td>...</td>\n",
       "      <td>NaN</td>\n",
       "      <td>NaN</td>\n",
       "      <td>NaN</td>\n",
       "      <td>NaN</td>\n",
       "      <td>20200705</td>\n",
       "      <td>74.55</td>\n",
       "      <td>True</td>\n",
       "      <td>Month-to-Month</td>\n",
       "      <td>One Line</td>\n",
       "      <td>Fiber Optic</td>\n",
       "    </tr>\n",
       "    <tr>\n",
       "      <th>5129</th>\n",
       "      <td>Male</td>\n",
       "      <td>0</td>\n",
       "      <td>Yes</td>\n",
       "      <td>Yes</td>\n",
       "      <td>1</td>\n",
       "      <td>1</td>\n",
       "      <td>0</td>\n",
       "      <td>Credit card (automatic)</td>\n",
       "      <td>70.30</td>\n",
       "      <td>1706.45</td>\n",
       "      <td>...</td>\n",
       "      <td>NaN</td>\n",
       "      <td>NaN</td>\n",
       "      <td>NaN</td>\n",
       "      <td>NaN</td>\n",
       "      <td>20191018</td>\n",
       "      <td>70.30</td>\n",
       "      <td>True</td>\n",
       "      <td>Month-to-Month</td>\n",
       "      <td>One Line</td>\n",
       "      <td>DSL</td>\n",
       "    </tr>\n",
       "    <tr>\n",
       "      <th>...</th>\n",
       "      <td>...</td>\n",
       "      <td>...</td>\n",
       "      <td>...</td>\n",
       "      <td>...</td>\n",
       "      <td>...</td>\n",
       "      <td>...</td>\n",
       "      <td>...</td>\n",
       "      <td>...</td>\n",
       "      <td>...</td>\n",
       "      <td>...</td>\n",
       "      <td>...</td>\n",
       "      <td>...</td>\n",
       "      <td>...</td>\n",
       "      <td>...</td>\n",
       "      <td>...</td>\n",
       "      <td>...</td>\n",
       "      <td>...</td>\n",
       "      <td>...</td>\n",
       "      <td>...</td>\n",
       "      <td>...</td>\n",
       "      <td>...</td>\n",
       "    </tr>\n",
       "    <tr>\n",
       "      <th>1792</th>\n",
       "      <td>Male</td>\n",
       "      <td>0</td>\n",
       "      <td>No</td>\n",
       "      <td>No</td>\n",
       "      <td>0</td>\n",
       "      <td>1</td>\n",
       "      <td>0</td>\n",
       "      <td>Credit card (automatic)</td>\n",
       "      <td>30.50</td>\n",
       "      <td>208.70</td>\n",
       "      <td>...</td>\n",
       "      <td>NaN</td>\n",
       "      <td>NaN</td>\n",
       "      <td>NaN</td>\n",
       "      <td>NaN</td>\n",
       "      <td>20210331</td>\n",
       "      <td>30.50</td>\n",
       "      <td>True</td>\n",
       "      <td>Month-to-Month</td>\n",
       "      <td>No Phone Service</td>\n",
       "      <td>DSL</td>\n",
       "    </tr>\n",
       "    <tr>\n",
       "      <th>6286</th>\n",
       "      <td>Male</td>\n",
       "      <td>0</td>\n",
       "      <td>No</td>\n",
       "      <td>No</td>\n",
       "      <td>2</td>\n",
       "      <td>0</td>\n",
       "      <td>0</td>\n",
       "      <td>Mailed check</td>\n",
       "      <td>25.00</td>\n",
       "      <td>25.00</td>\n",
       "      <td>...</td>\n",
       "      <td>NaN</td>\n",
       "      <td>NaN</td>\n",
       "      <td>NaN</td>\n",
       "      <td>NaN</td>\n",
       "      <td>20210925</td>\n",
       "      <td>25.00</td>\n",
       "      <td>True</td>\n",
       "      <td>Month-to-Month</td>\n",
       "      <td>Two or More Lines</td>\n",
       "      <td>No Internet Service</td>\n",
       "    </tr>\n",
       "    <tr>\n",
       "      <th>145</th>\n",
       "      <td>Male</td>\n",
       "      <td>0</td>\n",
       "      <td>No</td>\n",
       "      <td>No</td>\n",
       "      <td>1</td>\n",
       "      <td>2</td>\n",
       "      <td>0</td>\n",
       "      <td>Electronic check</td>\n",
       "      <td>84.30</td>\n",
       "      <td>235.05</td>\n",
       "      <td>...</td>\n",
       "      <td>NaN</td>\n",
       "      <td>NaN</td>\n",
       "      <td>NaN</td>\n",
       "      <td>NaN</td>\n",
       "      <td>20210802</td>\n",
       "      <td>84.30</td>\n",
       "      <td>True</td>\n",
       "      <td>Month-to-Month</td>\n",
       "      <td>One Line</td>\n",
       "      <td>Fiber Optic</td>\n",
       "    </tr>\n",
       "    <tr>\n",
       "      <th>2870</th>\n",
       "      <td>Male</td>\n",
       "      <td>0</td>\n",
       "      <td>No</td>\n",
       "      <td>No</td>\n",
       "      <td>1</td>\n",
       "      <td>0</td>\n",
       "      <td>0</td>\n",
       "      <td>Mailed check</td>\n",
       "      <td>20.25</td>\n",
       "      <td>178.50</td>\n",
       "      <td>...</td>\n",
       "      <td>NaN</td>\n",
       "      <td>NaN</td>\n",
       "      <td>NaN</td>\n",
       "      <td>NaN</td>\n",
       "      <td>20210130</td>\n",
       "      <td>20.25</td>\n",
       "      <td>True</td>\n",
       "      <td>Month-to-Month</td>\n",
       "      <td>One Line</td>\n",
       "      <td>No Internet Service</td>\n",
       "    </tr>\n",
       "    <tr>\n",
       "      <th>2455</th>\n",
       "      <td>Male</td>\n",
       "      <td>1</td>\n",
       "      <td>No</td>\n",
       "      <td>No</td>\n",
       "      <td>1</td>\n",
       "      <td>2</td>\n",
       "      <td>0</td>\n",
       "      <td>Credit card (automatic)</td>\n",
       "      <td>70.00</td>\n",
       "      <td>1732.60</td>\n",
       "      <td>...</td>\n",
       "      <td>NaN</td>\n",
       "      <td>NaN</td>\n",
       "      <td>NaN</td>\n",
       "      <td>NaN</td>\n",
       "      <td>20191004</td>\n",
       "      <td>70.00</td>\n",
       "      <td>True</td>\n",
       "      <td>Month-to-Month</td>\n",
       "      <td>One Line</td>\n",
       "      <td>Fiber Optic</td>\n",
       "    </tr>\n",
       "  </tbody>\n",
       "</table>\n",
       "<p>1573 rows × 28 columns</p>\n",
       "</div>"
      ],
      "text/plain": [
       "     gender  is_senior_citizen partner dependents  phone_service  \\\n",
       "5263   Male                  0      No         No              1   \n",
       "5500   Male                  0     Yes        Yes              1   \n",
       "5989   Male                  0      No        Yes              2   \n",
       "4129   Male                  0      No         No              1   \n",
       "5129   Male                  0     Yes        Yes              1   \n",
       "...     ...                ...     ...        ...            ...   \n",
       "1792   Male                  0      No         No              0   \n",
       "6286   Male                  0      No         No              2   \n",
       "145    Male                  0      No         No              1   \n",
       "2870   Male                  0      No         No              1   \n",
       "2455   Male                  1      No         No              1   \n",
       "\n",
       "      internet_service  contract_type             payment_type  \\\n",
       "5263                 2              0             Mailed check   \n",
       "5500                 1              0         Electronic check   \n",
       "5989                 1              0         Electronic check   \n",
       "4129                 2              0  Credit card (automatic)   \n",
       "5129                 1              0  Credit card (automatic)   \n",
       "...                ...            ...                      ...   \n",
       "1792                 1              0  Credit card (automatic)   \n",
       "6286                 0              0             Mailed check   \n",
       "145                  2              0         Electronic check   \n",
       "2870                 0              0             Mailed check   \n",
       "2455                 2              0  Credit card (automatic)   \n",
       "\n",
       "      monthly_charges  total_charges  ...  no_dependents_yes_partners  \\\n",
       "5263            79.85         887.35  ...                         NaN   \n",
       "5500            51.05         415.05  ...                         NaN   \n",
       "5989            50.05          50.05  ...                         NaN   \n",
       "4129            74.55        1170.50  ...                         NaN   \n",
       "5129            70.30        1706.45  ...                         NaN   \n",
       "...               ...            ...  ...                         ...   \n",
       "1792            30.50         208.70  ...                         NaN   \n",
       "6286            25.00          25.00  ...                         NaN   \n",
       "145             84.30         235.05  ...                         NaN   \n",
       "2870            20.25         178.50  ...                         NaN   \n",
       "2455            70.00        1732.60  ...                         NaN   \n",
       "\n",
       "      dependents_no_partners  yes_dependents_and_partners  Unnamed: 23  \\\n",
       "5263                     NaN                          NaN          NaN   \n",
       "5500                     NaN                          NaN          NaN   \n",
       "5989                     NaN                          NaN          NaN   \n",
       "4129                     NaN                          NaN          NaN   \n",
       "5129                     NaN                          NaN          NaN   \n",
       "...                      ...                          ...          ...   \n",
       "1792                     NaN                          NaN          NaN   \n",
       "6286                     NaN                          NaN          NaN   \n",
       "145                      NaN                          NaN          NaN   \n",
       "2870                     NaN                          NaN          NaN   \n",
       "2455                     NaN                          NaN          NaN   \n",
       "\n",
       "      start_date  average_monthly_charges  validate_monthly_charges  \\\n",
       "5263    20201121                    79.85                      True   \n",
       "5500    20210220                    51.05                      True   \n",
       "5989    20210925                    50.05                      True   \n",
       "4129    20200705                    74.55                      True   \n",
       "5129    20191018                    70.30                      True   \n",
       "...          ...                      ...                       ...   \n",
       "1792    20210331                    30.50                      True   \n",
       "6286    20210925                    25.00                      True   \n",
       "145     20210802                    84.30                      True   \n",
       "2870    20210130                    20.25                      True   \n",
       "2455    20191004                    70.00                      True   \n",
       "\n",
       "     contract_type_desc    phone_type_desc   internet_type_desc  \n",
       "5263     Month-to-Month           One Line          Fiber Optic  \n",
       "5500     Month-to-Month           One Line                  DSL  \n",
       "5989     Month-to-Month  Two or More Lines                  DSL  \n",
       "4129     Month-to-Month           One Line          Fiber Optic  \n",
       "5129     Month-to-Month           One Line                  DSL  \n",
       "...                 ...                ...                  ...  \n",
       "1792     Month-to-Month   No Phone Service                  DSL  \n",
       "6286     Month-to-Month  Two or More Lines  No Internet Service  \n",
       "145      Month-to-Month           One Line          Fiber Optic  \n",
       "2870     Month-to-Month           One Line  No Internet Service  \n",
       "2455     Month-to-Month           One Line          Fiber Optic  \n",
       "\n",
       "[1573 rows x 28 columns]"
      ]
     },
     "execution_count": 31,
     "metadata": {},
     "output_type": "execute_result"
    }
   ],
   "source": [
    "X_train[X_train.eq(\"Male\").any(1)]"
   ]
  },
  {
   "cell_type": "code",
   "execution_count": 32,
   "id": "34dfcf1d",
   "metadata": {},
   "outputs": [],
   "source": [
    "X_train.rename(columns={'gender': 'is_male'}, inplace = True)\n",
    "\n",
    "X_train.is_male=X_train.is_male.str.replace('Male','1')\n",
    "X_train.is_male=X_train.is_male.str.replace('Female','0')\n",
    "X_train.is_male=X_train.is_male.astype(bool)"
   ]
  },
  {
   "cell_type": "code",
   "execution_count": 33,
   "id": "189ebcb8",
   "metadata": {},
   "outputs": [
    {
     "data": {
      "text/html": [
       "<div>\n",
       "<style scoped>\n",
       "    .dataframe tbody tr th:only-of-type {\n",
       "        vertical-align: middle;\n",
       "    }\n",
       "\n",
       "    .dataframe tbody tr th {\n",
       "        vertical-align: top;\n",
       "    }\n",
       "\n",
       "    .dataframe thead th {\n",
       "        text-align: right;\n",
       "    }\n",
       "</style>\n",
       "<table border=\"1\" class=\"dataframe\">\n",
       "  <thead>\n",
       "    <tr style=\"text-align: right;\">\n",
       "      <th></th>\n",
       "      <th>is_male</th>\n",
       "      <th>is_senior_citizen</th>\n",
       "      <th>partner</th>\n",
       "      <th>dependents</th>\n",
       "      <th>phone_service</th>\n",
       "      <th>internet_service</th>\n",
       "      <th>contract_type</th>\n",
       "      <th>payment_type</th>\n",
       "      <th>monthly_charges</th>\n",
       "      <th>total_charges</th>\n",
       "      <th>...</th>\n",
       "      <th>no_dependents_yes_partners</th>\n",
       "      <th>dependents_no_partners</th>\n",
       "      <th>yes_dependents_and_partners</th>\n",
       "      <th>Unnamed: 23</th>\n",
       "      <th>start_date</th>\n",
       "      <th>average_monthly_charges</th>\n",
       "      <th>validate_monthly_charges</th>\n",
       "      <th>contract_type_desc</th>\n",
       "      <th>phone_type_desc</th>\n",
       "      <th>internet_type_desc</th>\n",
       "    </tr>\n",
       "  </thead>\n",
       "  <tbody>\n",
       "  </tbody>\n",
       "</table>\n",
       "<p>0 rows × 28 columns</p>\n",
       "</div>"
      ],
      "text/plain": [
       "Empty DataFrame\n",
       "Columns: [is_male, is_senior_citizen, partner, dependents, phone_service, internet_service, contract_type, payment_type, monthly_charges, total_charges, tenure, is_female, has_churned, has_phone, has_internet, has_phone_and_internet, partner_dependents, no_partners_no_dependents, no_dependents_yes_partners, dependents_no_partners, yes_dependents_and_partners, Unnamed: 23, start_date, average_monthly_charges, validate_monthly_charges, contract_type_desc, phone_type_desc, internet_type_desc]\n",
       "Index: []\n",
       "\n",
       "[0 rows x 28 columns]"
      ]
     },
     "execution_count": 33,
     "metadata": {},
     "output_type": "execute_result"
    }
   ],
   "source": [
    "X_train[X_train.eq(\"Male\").any(1)]"
   ]
  },
  {
   "cell_type": "code",
   "execution_count": null,
   "id": "f37e7e1f",
   "metadata": {},
   "outputs": [],
   "source": []
  },
  {
   "cell_type": "code",
   "execution_count": 34,
   "id": "b9c9af38",
   "metadata": {},
   "outputs": [
    {
     "data": {
      "text/html": [
       "<div>\n",
       "<style scoped>\n",
       "    .dataframe tbody tr th:only-of-type {\n",
       "        vertical-align: middle;\n",
       "    }\n",
       "\n",
       "    .dataframe tbody tr th {\n",
       "        vertical-align: top;\n",
       "    }\n",
       "\n",
       "    .dataframe thead th {\n",
       "        text-align: right;\n",
       "    }\n",
       "</style>\n",
       "<table border=\"1\" class=\"dataframe\">\n",
       "  <thead>\n",
       "    <tr style=\"text-align: right;\">\n",
       "      <th></th>\n",
       "      <th>is_male</th>\n",
       "      <th>is_senior_citizen</th>\n",
       "      <th>partner</th>\n",
       "      <th>dependents</th>\n",
       "      <th>phone_service</th>\n",
       "      <th>internet_service</th>\n",
       "      <th>contract_type</th>\n",
       "      <th>payment_type</th>\n",
       "      <th>monthly_charges</th>\n",
       "      <th>total_charges</th>\n",
       "      <th>...</th>\n",
       "      <th>no_dependents_yes_partners</th>\n",
       "      <th>dependents_no_partners</th>\n",
       "      <th>yes_dependents_and_partners</th>\n",
       "      <th>Unnamed: 23</th>\n",
       "      <th>start_date</th>\n",
       "      <th>average_monthly_charges</th>\n",
       "      <th>validate_monthly_charges</th>\n",
       "      <th>contract_type_desc</th>\n",
       "      <th>phone_type_desc</th>\n",
       "      <th>internet_type_desc</th>\n",
       "    </tr>\n",
       "  </thead>\n",
       "  <tbody>\n",
       "    <tr>\n",
       "      <th>5263</th>\n",
       "      <td>True</td>\n",
       "      <td>0</td>\n",
       "      <td>No</td>\n",
       "      <td>No</td>\n",
       "      <td>1</td>\n",
       "      <td>2</td>\n",
       "      <td>0</td>\n",
       "      <td>Mailed check</td>\n",
       "      <td>79.85</td>\n",
       "      <td>887.35</td>\n",
       "      <td>...</td>\n",
       "      <td>NaN</td>\n",
       "      <td>NaN</td>\n",
       "      <td>NaN</td>\n",
       "      <td>NaN</td>\n",
       "      <td>20201121</td>\n",
       "      <td>79.85</td>\n",
       "      <td>True</td>\n",
       "      <td>Month-to-Month</td>\n",
       "      <td>One Line</td>\n",
       "      <td>Fiber Optic</td>\n",
       "    </tr>\n",
       "    <tr>\n",
       "      <th>3749</th>\n",
       "      <td>True</td>\n",
       "      <td>1</td>\n",
       "      <td>No</td>\n",
       "      <td>No</td>\n",
       "      <td>2</td>\n",
       "      <td>2</td>\n",
       "      <td>0</td>\n",
       "      <td>Electronic check</td>\n",
       "      <td>85.55</td>\n",
       "      <td>187.45</td>\n",
       "      <td>...</td>\n",
       "      <td>NaN</td>\n",
       "      <td>NaN</td>\n",
       "      <td>NaN</td>\n",
       "      <td>NaN</td>\n",
       "      <td>20210820</td>\n",
       "      <td>85.55</td>\n",
       "      <td>True</td>\n",
       "      <td>Month-to-Month</td>\n",
       "      <td>Two or More Lines</td>\n",
       "      <td>Fiber Optic</td>\n",
       "    </tr>\n",
       "    <tr>\n",
       "      <th>4003</th>\n",
       "      <td>True</td>\n",
       "      <td>1</td>\n",
       "      <td>Yes</td>\n",
       "      <td>No</td>\n",
       "      <td>2</td>\n",
       "      <td>2</td>\n",
       "      <td>0</td>\n",
       "      <td>Electronic check</td>\n",
       "      <td>105.90</td>\n",
       "      <td>6401.25</td>\n",
       "      <td>...</td>\n",
       "      <td>NaN</td>\n",
       "      <td>NaN</td>\n",
       "      <td>NaN</td>\n",
       "      <td>NaN</td>\n",
       "      <td>20161013</td>\n",
       "      <td>105.90</td>\n",
       "      <td>True</td>\n",
       "      <td>Month-to-Month</td>\n",
       "      <td>Two or More Lines</td>\n",
       "      <td>Fiber Optic</td>\n",
       "    </tr>\n",
       "    <tr>\n",
       "      <th>5500</th>\n",
       "      <td>True</td>\n",
       "      <td>0</td>\n",
       "      <td>Yes</td>\n",
       "      <td>Yes</td>\n",
       "      <td>1</td>\n",
       "      <td>1</td>\n",
       "      <td>0</td>\n",
       "      <td>Electronic check</td>\n",
       "      <td>51.05</td>\n",
       "      <td>415.05</td>\n",
       "      <td>...</td>\n",
       "      <td>NaN</td>\n",
       "      <td>NaN</td>\n",
       "      <td>NaN</td>\n",
       "      <td>NaN</td>\n",
       "      <td>20210220</td>\n",
       "      <td>51.05</td>\n",
       "      <td>True</td>\n",
       "      <td>Month-to-Month</td>\n",
       "      <td>One Line</td>\n",
       "      <td>DSL</td>\n",
       "    </tr>\n",
       "    <tr>\n",
       "      <th>5989</th>\n",
       "      <td>True</td>\n",
       "      <td>0</td>\n",
       "      <td>No</td>\n",
       "      <td>Yes</td>\n",
       "      <td>2</td>\n",
       "      <td>1</td>\n",
       "      <td>0</td>\n",
       "      <td>Electronic check</td>\n",
       "      <td>50.05</td>\n",
       "      <td>50.05</td>\n",
       "      <td>...</td>\n",
       "      <td>NaN</td>\n",
       "      <td>NaN</td>\n",
       "      <td>NaN</td>\n",
       "      <td>NaN</td>\n",
       "      <td>20210925</td>\n",
       "      <td>50.05</td>\n",
       "      <td>True</td>\n",
       "      <td>Month-to-Month</td>\n",
       "      <td>Two or More Lines</td>\n",
       "      <td>DSL</td>\n",
       "    </tr>\n",
       "  </tbody>\n",
       "</table>\n",
       "<p>5 rows × 28 columns</p>\n",
       "</div>"
      ],
      "text/plain": [
       "      is_male  is_senior_citizen partner dependents  phone_service  \\\n",
       "5263     True                  0      No         No              1   \n",
       "3749     True                  1      No         No              2   \n",
       "4003     True                  1     Yes         No              2   \n",
       "5500     True                  0     Yes        Yes              1   \n",
       "5989     True                  0      No        Yes              2   \n",
       "\n",
       "      internet_service  contract_type      payment_type  monthly_charges  \\\n",
       "5263                 2              0      Mailed check            79.85   \n",
       "3749                 2              0  Electronic check            85.55   \n",
       "4003                 2              0  Electronic check           105.90   \n",
       "5500                 1              0  Electronic check            51.05   \n",
       "5989                 1              0  Electronic check            50.05   \n",
       "\n",
       "      total_charges  ...  no_dependents_yes_partners  dependents_no_partners  \\\n",
       "5263         887.35  ...                         NaN                     NaN   \n",
       "3749         187.45  ...                         NaN                     NaN   \n",
       "4003        6401.25  ...                         NaN                     NaN   \n",
       "5500         415.05  ...                         NaN                     NaN   \n",
       "5989          50.05  ...                         NaN                     NaN   \n",
       "\n",
       "      yes_dependents_and_partners  Unnamed: 23  start_date  \\\n",
       "5263                          NaN          NaN    20201121   \n",
       "3749                          NaN          NaN    20210820   \n",
       "4003                          NaN          NaN    20161013   \n",
       "5500                          NaN          NaN    20210220   \n",
       "5989                          NaN          NaN    20210925   \n",
       "\n",
       "      average_monthly_charges  validate_monthly_charges contract_type_desc  \\\n",
       "5263                    79.85                      True     Month-to-Month   \n",
       "3749                    85.55                      True     Month-to-Month   \n",
       "4003                   105.90                      True     Month-to-Month   \n",
       "5500                    51.05                      True     Month-to-Month   \n",
       "5989                    50.05                      True     Month-to-Month   \n",
       "\n",
       "        phone_type_desc internet_type_desc  \n",
       "5263           One Line        Fiber Optic  \n",
       "3749  Two or More Lines        Fiber Optic  \n",
       "4003  Two or More Lines        Fiber Optic  \n",
       "5500           One Line                DSL  \n",
       "5989  Two or More Lines                DSL  \n",
       "\n",
       "[5 rows x 28 columns]"
      ]
     },
     "execution_count": 34,
     "metadata": {},
     "output_type": "execute_result"
    }
   ],
   "source": [
    "X_train.head()"
   ]
  },
  {
   "cell_type": "code",
   "execution_count": 35,
   "id": "08d573b5",
   "metadata": {},
   "outputs": [],
   "source": [
    "X_train.partner=X_train.partner.str.replace('No','0')\n",
    "X_train.partner=X_train.partner.str.replace('Yes','1')\n",
    "X_train.partner=X_train.partner.astype(bool)\n",
    "\n",
    "X_train.dependents=X_train.dependents.str.replace('No','0')\n",
    "X_train.dependents=X_train.dependents.str.replace('Yes','1')\n",
    "X_train.dependents=X_train.dependents.astype(bool)"
   ]
  },
  {
   "cell_type": "code",
   "execution_count": null,
   "id": "35f8195e",
   "metadata": {},
   "outputs": [],
   "source": []
  },
  {
   "cell_type": "code",
   "execution_count": null,
   "id": "bf30cd0d",
   "metadata": {},
   "outputs": [],
   "source": [
    "#Import linear regression model sci-kit learn\n",
    "from sklearn.linear_model import LogisticRegression\n",
    "model = LogisticRegression()\n",
    "result = model.fit(X_train, y_train)"
   ]
  },
  {
   "cell_type": "code",
   "execution_count": 44,
   "id": "a6eae8a1",
   "metadata": {},
   "outputs": [
    {
     "data": {
      "application/vnd.plotly.v1+json": {
       "config": {
        "linkText": "Export to plot.ly",
        "plotlyServerURL": "https://plot.ly",
        "showLink": false
       },
       "data": [
        {
         "hole": 0.5,
         "hoverinfo": "label+value+text",
         "labels": [
          0,
          1
         ],
         "marker": {
          "colors": [
           "royalblue",
           "lime"
          ],
          "line": {
           "color": "white",
           "width": 1.3
          }
         },
         "rotation": 90,
         "type": "pie",
         "values": [
          2220,
          1655
         ]
        }
       ],
       "layout": {
        "paper_bgcolor": "rgb(243,243,243)",
        "plot_bgcolor": "rgb(243,243,243)",
        "template": {
         "data": {
          "bar": [
           {
            "error_x": {
             "color": "#2a3f5f"
            },
            "error_y": {
             "color": "#2a3f5f"
            },
            "marker": {
             "line": {
              "color": "#E5ECF6",
              "width": 0.5
             },
             "pattern": {
              "fillmode": "overlay",
              "size": 10,
              "solidity": 0.2
             }
            },
            "type": "bar"
           }
          ],
          "barpolar": [
           {
            "marker": {
             "line": {
              "color": "#E5ECF6",
              "width": 0.5
             },
             "pattern": {
              "fillmode": "overlay",
              "size": 10,
              "solidity": 0.2
             }
            },
            "type": "barpolar"
           }
          ],
          "carpet": [
           {
            "aaxis": {
             "endlinecolor": "#2a3f5f",
             "gridcolor": "white",
             "linecolor": "white",
             "minorgridcolor": "white",
             "startlinecolor": "#2a3f5f"
            },
            "baxis": {
             "endlinecolor": "#2a3f5f",
             "gridcolor": "white",
             "linecolor": "white",
             "minorgridcolor": "white",
             "startlinecolor": "#2a3f5f"
            },
            "type": "carpet"
           }
          ],
          "choropleth": [
           {
            "colorbar": {
             "outlinewidth": 0,
             "ticks": ""
            },
            "type": "choropleth"
           }
          ],
          "contour": [
           {
            "colorbar": {
             "outlinewidth": 0,
             "ticks": ""
            },
            "colorscale": [
             [
              0,
              "#0d0887"
             ],
             [
              0.1111111111111111,
              "#46039f"
             ],
             [
              0.2222222222222222,
              "#7201a8"
             ],
             [
              0.3333333333333333,
              "#9c179e"
             ],
             [
              0.4444444444444444,
              "#bd3786"
             ],
             [
              0.5555555555555556,
              "#d8576b"
             ],
             [
              0.6666666666666666,
              "#ed7953"
             ],
             [
              0.7777777777777778,
              "#fb9f3a"
             ],
             [
              0.8888888888888888,
              "#fdca26"
             ],
             [
              1,
              "#f0f921"
             ]
            ],
            "type": "contour"
           }
          ],
          "contourcarpet": [
           {
            "colorbar": {
             "outlinewidth": 0,
             "ticks": ""
            },
            "type": "contourcarpet"
           }
          ],
          "heatmap": [
           {
            "colorbar": {
             "outlinewidth": 0,
             "ticks": ""
            },
            "colorscale": [
             [
              0,
              "#0d0887"
             ],
             [
              0.1111111111111111,
              "#46039f"
             ],
             [
              0.2222222222222222,
              "#7201a8"
             ],
             [
              0.3333333333333333,
              "#9c179e"
             ],
             [
              0.4444444444444444,
              "#bd3786"
             ],
             [
              0.5555555555555556,
              "#d8576b"
             ],
             [
              0.6666666666666666,
              "#ed7953"
             ],
             [
              0.7777777777777778,
              "#fb9f3a"
             ],
             [
              0.8888888888888888,
              "#fdca26"
             ],
             [
              1,
              "#f0f921"
             ]
            ],
            "type": "heatmap"
           }
          ],
          "heatmapgl": [
           {
            "colorbar": {
             "outlinewidth": 0,
             "ticks": ""
            },
            "colorscale": [
             [
              0,
              "#0d0887"
             ],
             [
              0.1111111111111111,
              "#46039f"
             ],
             [
              0.2222222222222222,
              "#7201a8"
             ],
             [
              0.3333333333333333,
              "#9c179e"
             ],
             [
              0.4444444444444444,
              "#bd3786"
             ],
             [
              0.5555555555555556,
              "#d8576b"
             ],
             [
              0.6666666666666666,
              "#ed7953"
             ],
             [
              0.7777777777777778,
              "#fb9f3a"
             ],
             [
              0.8888888888888888,
              "#fdca26"
             ],
             [
              1,
              "#f0f921"
             ]
            ],
            "type": "heatmapgl"
           }
          ],
          "histogram": [
           {
            "marker": {
             "pattern": {
              "fillmode": "overlay",
              "size": 10,
              "solidity": 0.2
             }
            },
            "type": "histogram"
           }
          ],
          "histogram2d": [
           {
            "colorbar": {
             "outlinewidth": 0,
             "ticks": ""
            },
            "colorscale": [
             [
              0,
              "#0d0887"
             ],
             [
              0.1111111111111111,
              "#46039f"
             ],
             [
              0.2222222222222222,
              "#7201a8"
             ],
             [
              0.3333333333333333,
              "#9c179e"
             ],
             [
              0.4444444444444444,
              "#bd3786"
             ],
             [
              0.5555555555555556,
              "#d8576b"
             ],
             [
              0.6666666666666666,
              "#ed7953"
             ],
             [
              0.7777777777777778,
              "#fb9f3a"
             ],
             [
              0.8888888888888888,
              "#fdca26"
             ],
             [
              1,
              "#f0f921"
             ]
            ],
            "type": "histogram2d"
           }
          ],
          "histogram2dcontour": [
           {
            "colorbar": {
             "outlinewidth": 0,
             "ticks": ""
            },
            "colorscale": [
             [
              0,
              "#0d0887"
             ],
             [
              0.1111111111111111,
              "#46039f"
             ],
             [
              0.2222222222222222,
              "#7201a8"
             ],
             [
              0.3333333333333333,
              "#9c179e"
             ],
             [
              0.4444444444444444,
              "#bd3786"
             ],
             [
              0.5555555555555556,
              "#d8576b"
             ],
             [
              0.6666666666666666,
              "#ed7953"
             ],
             [
              0.7777777777777778,
              "#fb9f3a"
             ],
             [
              0.8888888888888888,
              "#fdca26"
             ],
             [
              1,
              "#f0f921"
             ]
            ],
            "type": "histogram2dcontour"
           }
          ],
          "mesh3d": [
           {
            "colorbar": {
             "outlinewidth": 0,
             "ticks": ""
            },
            "type": "mesh3d"
           }
          ],
          "parcoords": [
           {
            "line": {
             "colorbar": {
              "outlinewidth": 0,
              "ticks": ""
             }
            },
            "type": "parcoords"
           }
          ],
          "pie": [
           {
            "automargin": true,
            "type": "pie"
           }
          ],
          "scatter": [
           {
            "marker": {
             "colorbar": {
              "outlinewidth": 0,
              "ticks": ""
             }
            },
            "type": "scatter"
           }
          ],
          "scatter3d": [
           {
            "line": {
             "colorbar": {
              "outlinewidth": 0,
              "ticks": ""
             }
            },
            "marker": {
             "colorbar": {
              "outlinewidth": 0,
              "ticks": ""
             }
            },
            "type": "scatter3d"
           }
          ],
          "scattercarpet": [
           {
            "marker": {
             "colorbar": {
              "outlinewidth": 0,
              "ticks": ""
             }
            },
            "type": "scattercarpet"
           }
          ],
          "scattergeo": [
           {
            "marker": {
             "colorbar": {
              "outlinewidth": 0,
              "ticks": ""
             }
            },
            "type": "scattergeo"
           }
          ],
          "scattergl": [
           {
            "marker": {
             "colorbar": {
              "outlinewidth": 0,
              "ticks": ""
             }
            },
            "type": "scattergl"
           }
          ],
          "scattermapbox": [
           {
            "marker": {
             "colorbar": {
              "outlinewidth": 0,
              "ticks": ""
             }
            },
            "type": "scattermapbox"
           }
          ],
          "scatterpolar": [
           {
            "marker": {
             "colorbar": {
              "outlinewidth": 0,
              "ticks": ""
             }
            },
            "type": "scatterpolar"
           }
          ],
          "scatterpolargl": [
           {
            "marker": {
             "colorbar": {
              "outlinewidth": 0,
              "ticks": ""
             }
            },
            "type": "scatterpolargl"
           }
          ],
          "scatterternary": [
           {
            "marker": {
             "colorbar": {
              "outlinewidth": 0,
              "ticks": ""
             }
            },
            "type": "scatterternary"
           }
          ],
          "surface": [
           {
            "colorbar": {
             "outlinewidth": 0,
             "ticks": ""
            },
            "colorscale": [
             [
              0,
              "#0d0887"
             ],
             [
              0.1111111111111111,
              "#46039f"
             ],
             [
              0.2222222222222222,
              "#7201a8"
             ],
             [
              0.3333333333333333,
              "#9c179e"
             ],
             [
              0.4444444444444444,
              "#bd3786"
             ],
             [
              0.5555555555555556,
              "#d8576b"
             ],
             [
              0.6666666666666666,
              "#ed7953"
             ],
             [
              0.7777777777777778,
              "#fb9f3a"
             ],
             [
              0.8888888888888888,
              "#fdca26"
             ],
             [
              1,
              "#f0f921"
             ]
            ],
            "type": "surface"
           }
          ],
          "table": [
           {
            "cells": {
             "fill": {
              "color": "#EBF0F8"
             },
             "line": {
              "color": "white"
             }
            },
            "header": {
             "fill": {
              "color": "#C8D4E3"
             },
             "line": {
              "color": "white"
             }
            },
            "type": "table"
           }
          ]
         },
         "layout": {
          "annotationdefaults": {
           "arrowcolor": "#2a3f5f",
           "arrowhead": 0,
           "arrowwidth": 1
          },
          "autotypenumbers": "strict",
          "coloraxis": {
           "colorbar": {
            "outlinewidth": 0,
            "ticks": ""
           }
          },
          "colorscale": {
           "diverging": [
            [
             0,
             "#8e0152"
            ],
            [
             0.1,
             "#c51b7d"
            ],
            [
             0.2,
             "#de77ae"
            ],
            [
             0.3,
             "#f1b6da"
            ],
            [
             0.4,
             "#fde0ef"
            ],
            [
             0.5,
             "#f7f7f7"
            ],
            [
             0.6,
             "#e6f5d0"
            ],
            [
             0.7,
             "#b8e186"
            ],
            [
             0.8,
             "#7fbc41"
            ],
            [
             0.9,
             "#4d9221"
            ],
            [
             1,
             "#276419"
            ]
           ],
           "sequential": [
            [
             0,
             "#0d0887"
            ],
            [
             0.1111111111111111,
             "#46039f"
            ],
            [
             0.2222222222222222,
             "#7201a8"
            ],
            [
             0.3333333333333333,
             "#9c179e"
            ],
            [
             0.4444444444444444,
             "#bd3786"
            ],
            [
             0.5555555555555556,
             "#d8576b"
            ],
            [
             0.6666666666666666,
             "#ed7953"
            ],
            [
             0.7777777777777778,
             "#fb9f3a"
            ],
            [
             0.8888888888888888,
             "#fdca26"
            ],
            [
             1,
             "#f0f921"
            ]
           ],
           "sequentialminus": [
            [
             0,
             "#0d0887"
            ],
            [
             0.1111111111111111,
             "#46039f"
            ],
            [
             0.2222222222222222,
             "#7201a8"
            ],
            [
             0.3333333333333333,
             "#9c179e"
            ],
            [
             0.4444444444444444,
             "#bd3786"
            ],
            [
             0.5555555555555556,
             "#d8576b"
            ],
            [
             0.6666666666666666,
             "#ed7953"
            ],
            [
             0.7777777777777778,
             "#fb9f3a"
            ],
            [
             0.8888888888888888,
             "#fdca26"
            ],
            [
             1,
             "#f0f921"
            ]
           ]
          },
          "colorway": [
           "#636efa",
           "#EF553B",
           "#00cc96",
           "#ab63fa",
           "#FFA15A",
           "#19d3f3",
           "#FF6692",
           "#B6E880",
           "#FF97FF",
           "#FECB52"
          ],
          "font": {
           "color": "#2a3f5f"
          },
          "geo": {
           "bgcolor": "white",
           "lakecolor": "white",
           "landcolor": "#E5ECF6",
           "showlakes": true,
           "showland": true,
           "subunitcolor": "white"
          },
          "hoverlabel": {
           "align": "left"
          },
          "hovermode": "closest",
          "mapbox": {
           "style": "light"
          },
          "paper_bgcolor": "white",
          "plot_bgcolor": "#E5ECF6",
          "polar": {
           "angularaxis": {
            "gridcolor": "white",
            "linecolor": "white",
            "ticks": ""
           },
           "bgcolor": "#E5ECF6",
           "radialaxis": {
            "gridcolor": "white",
            "linecolor": "white",
            "ticks": ""
           }
          },
          "scene": {
           "xaxis": {
            "backgroundcolor": "#E5ECF6",
            "gridcolor": "white",
            "gridwidth": 2,
            "linecolor": "white",
            "showbackground": true,
            "ticks": "",
            "zerolinecolor": "white"
           },
           "yaxis": {
            "backgroundcolor": "#E5ECF6",
            "gridcolor": "white",
            "gridwidth": 2,
            "linecolor": "white",
            "showbackground": true,
            "ticks": "",
            "zerolinecolor": "white"
           },
           "zaxis": {
            "backgroundcolor": "#E5ECF6",
            "gridcolor": "white",
            "gridwidth": 2,
            "linecolor": "white",
            "showbackground": true,
            "ticks": "",
            "zerolinecolor": "white"
           }
          },
          "shapedefaults": {
           "line": {
            "color": "#2a3f5f"
           }
          },
          "ternary": {
           "aaxis": {
            "gridcolor": "white",
            "linecolor": "white",
            "ticks": ""
           },
           "baxis": {
            "gridcolor": "white",
            "linecolor": "white",
            "ticks": ""
           },
           "bgcolor": "#E5ECF6",
           "caxis": {
            "gridcolor": "white",
            "linecolor": "white",
            "ticks": ""
           }
          },
          "title": {
           "x": 0.05
          },
          "xaxis": {
           "automargin": true,
           "gridcolor": "white",
           "linecolor": "white",
           "ticks": "",
           "title": {
            "standoff": 15
           },
           "zerolinecolor": "white",
           "zerolinewidth": 2
          },
          "yaxis": {
           "automargin": true,
           "gridcolor": "white",
           "linecolor": "white",
           "ticks": "",
           "title": {
            "standoff": 15
           },
           "zerolinecolor": "white",
           "zerolinewidth": 2
          }
         }
        },
        "title": {
         "text": "Customer churn in training data"
        }
       }
      },
      "text/html": [
       "<div>                            <div id=\"2b0410f6-81d5-4453-be53-dedffd1d7ad5\" class=\"plotly-graph-div\" style=\"height:525px; width:100%;\"></div>            <script type=\"text/javascript\">                require([\"plotly\"], function(Plotly) {                    window.PLOTLYENV=window.PLOTLYENV || {};                                    if (document.getElementById(\"2b0410f6-81d5-4453-be53-dedffd1d7ad5\")) {                    Plotly.newPlot(                        \"2b0410f6-81d5-4453-be53-dedffd1d7ad5\",                        [{\"hole\":0.5,\"hoverinfo\":\"label+value+text\",\"labels\":[0,1],\"marker\":{\"colors\":[\"royalblue\",\"lime\"],\"line\":{\"color\":\"white\",\"width\":1.3}},\"rotation\":90,\"type\":\"pie\",\"values\":[2220,1655]}],                        {\"paper_bgcolor\":\"rgb(243,243,243)\",\"plot_bgcolor\":\"rgb(243,243,243)\",\"template\":{\"data\":{\"bar\":[{\"error_x\":{\"color\":\"#2a3f5f\"},\"error_y\":{\"color\":\"#2a3f5f\"},\"marker\":{\"line\":{\"color\":\"#E5ECF6\",\"width\":0.5},\"pattern\":{\"fillmode\":\"overlay\",\"size\":10,\"solidity\":0.2}},\"type\":\"bar\"}],\"barpolar\":[{\"marker\":{\"line\":{\"color\":\"#E5ECF6\",\"width\":0.5},\"pattern\":{\"fillmode\":\"overlay\",\"size\":10,\"solidity\":0.2}},\"type\":\"barpolar\"}],\"carpet\":[{\"aaxis\":{\"endlinecolor\":\"#2a3f5f\",\"gridcolor\":\"white\",\"linecolor\":\"white\",\"minorgridcolor\":\"white\",\"startlinecolor\":\"#2a3f5f\"},\"baxis\":{\"endlinecolor\":\"#2a3f5f\",\"gridcolor\":\"white\",\"linecolor\":\"white\",\"minorgridcolor\":\"white\",\"startlinecolor\":\"#2a3f5f\"},\"type\":\"carpet\"}],\"choropleth\":[{\"colorbar\":{\"outlinewidth\":0,\"ticks\":\"\"},\"type\":\"choropleth\"}],\"contour\":[{\"colorbar\":{\"outlinewidth\":0,\"ticks\":\"\"},\"colorscale\":[[0.0,\"#0d0887\"],[0.1111111111111111,\"#46039f\"],[0.2222222222222222,\"#7201a8\"],[0.3333333333333333,\"#9c179e\"],[0.4444444444444444,\"#bd3786\"],[0.5555555555555556,\"#d8576b\"],[0.6666666666666666,\"#ed7953\"],[0.7777777777777778,\"#fb9f3a\"],[0.8888888888888888,\"#fdca26\"],[1.0,\"#f0f921\"]],\"type\":\"contour\"}],\"contourcarpet\":[{\"colorbar\":{\"outlinewidth\":0,\"ticks\":\"\"},\"type\":\"contourcarpet\"}],\"heatmap\":[{\"colorbar\":{\"outlinewidth\":0,\"ticks\":\"\"},\"colorscale\":[[0.0,\"#0d0887\"],[0.1111111111111111,\"#46039f\"],[0.2222222222222222,\"#7201a8\"],[0.3333333333333333,\"#9c179e\"],[0.4444444444444444,\"#bd3786\"],[0.5555555555555556,\"#d8576b\"],[0.6666666666666666,\"#ed7953\"],[0.7777777777777778,\"#fb9f3a\"],[0.8888888888888888,\"#fdca26\"],[1.0,\"#f0f921\"]],\"type\":\"heatmap\"}],\"heatmapgl\":[{\"colorbar\":{\"outlinewidth\":0,\"ticks\":\"\"},\"colorscale\":[[0.0,\"#0d0887\"],[0.1111111111111111,\"#46039f\"],[0.2222222222222222,\"#7201a8\"],[0.3333333333333333,\"#9c179e\"],[0.4444444444444444,\"#bd3786\"],[0.5555555555555556,\"#d8576b\"],[0.6666666666666666,\"#ed7953\"],[0.7777777777777778,\"#fb9f3a\"],[0.8888888888888888,\"#fdca26\"],[1.0,\"#f0f921\"]],\"type\":\"heatmapgl\"}],\"histogram\":[{\"marker\":{\"pattern\":{\"fillmode\":\"overlay\",\"size\":10,\"solidity\":0.2}},\"type\":\"histogram\"}],\"histogram2d\":[{\"colorbar\":{\"outlinewidth\":0,\"ticks\":\"\"},\"colorscale\":[[0.0,\"#0d0887\"],[0.1111111111111111,\"#46039f\"],[0.2222222222222222,\"#7201a8\"],[0.3333333333333333,\"#9c179e\"],[0.4444444444444444,\"#bd3786\"],[0.5555555555555556,\"#d8576b\"],[0.6666666666666666,\"#ed7953\"],[0.7777777777777778,\"#fb9f3a\"],[0.8888888888888888,\"#fdca26\"],[1.0,\"#f0f921\"]],\"type\":\"histogram2d\"}],\"histogram2dcontour\":[{\"colorbar\":{\"outlinewidth\":0,\"ticks\":\"\"},\"colorscale\":[[0.0,\"#0d0887\"],[0.1111111111111111,\"#46039f\"],[0.2222222222222222,\"#7201a8\"],[0.3333333333333333,\"#9c179e\"],[0.4444444444444444,\"#bd3786\"],[0.5555555555555556,\"#d8576b\"],[0.6666666666666666,\"#ed7953\"],[0.7777777777777778,\"#fb9f3a\"],[0.8888888888888888,\"#fdca26\"],[1.0,\"#f0f921\"]],\"type\":\"histogram2dcontour\"}],\"mesh3d\":[{\"colorbar\":{\"outlinewidth\":0,\"ticks\":\"\"},\"type\":\"mesh3d\"}],\"parcoords\":[{\"line\":{\"colorbar\":{\"outlinewidth\":0,\"ticks\":\"\"}},\"type\":\"parcoords\"}],\"pie\":[{\"automargin\":true,\"type\":\"pie\"}],\"scatter\":[{\"marker\":{\"colorbar\":{\"outlinewidth\":0,\"ticks\":\"\"}},\"type\":\"scatter\"}],\"scatter3d\":[{\"line\":{\"colorbar\":{\"outlinewidth\":0,\"ticks\":\"\"}},\"marker\":{\"colorbar\":{\"outlinewidth\":0,\"ticks\":\"\"}},\"type\":\"scatter3d\"}],\"scattercarpet\":[{\"marker\":{\"colorbar\":{\"outlinewidth\":0,\"ticks\":\"\"}},\"type\":\"scattercarpet\"}],\"scattergeo\":[{\"marker\":{\"colorbar\":{\"outlinewidth\":0,\"ticks\":\"\"}},\"type\":\"scattergeo\"}],\"scattergl\":[{\"marker\":{\"colorbar\":{\"outlinewidth\":0,\"ticks\":\"\"}},\"type\":\"scattergl\"}],\"scattermapbox\":[{\"marker\":{\"colorbar\":{\"outlinewidth\":0,\"ticks\":\"\"}},\"type\":\"scattermapbox\"}],\"scatterpolar\":[{\"marker\":{\"colorbar\":{\"outlinewidth\":0,\"ticks\":\"\"}},\"type\":\"scatterpolar\"}],\"scatterpolargl\":[{\"marker\":{\"colorbar\":{\"outlinewidth\":0,\"ticks\":\"\"}},\"type\":\"scatterpolargl\"}],\"scatterternary\":[{\"marker\":{\"colorbar\":{\"outlinewidth\":0,\"ticks\":\"\"}},\"type\":\"scatterternary\"}],\"surface\":[{\"colorbar\":{\"outlinewidth\":0,\"ticks\":\"\"},\"colorscale\":[[0.0,\"#0d0887\"],[0.1111111111111111,\"#46039f\"],[0.2222222222222222,\"#7201a8\"],[0.3333333333333333,\"#9c179e\"],[0.4444444444444444,\"#bd3786\"],[0.5555555555555556,\"#d8576b\"],[0.6666666666666666,\"#ed7953\"],[0.7777777777777778,\"#fb9f3a\"],[0.8888888888888888,\"#fdca26\"],[1.0,\"#f0f921\"]],\"type\":\"surface\"}],\"table\":[{\"cells\":{\"fill\":{\"color\":\"#EBF0F8\"},\"line\":{\"color\":\"white\"}},\"header\":{\"fill\":{\"color\":\"#C8D4E3\"},\"line\":{\"color\":\"white\"}},\"type\":\"table\"}]},\"layout\":{\"annotationdefaults\":{\"arrowcolor\":\"#2a3f5f\",\"arrowhead\":0,\"arrowwidth\":1},\"autotypenumbers\":\"strict\",\"coloraxis\":{\"colorbar\":{\"outlinewidth\":0,\"ticks\":\"\"}},\"colorscale\":{\"diverging\":[[0,\"#8e0152\"],[0.1,\"#c51b7d\"],[0.2,\"#de77ae\"],[0.3,\"#f1b6da\"],[0.4,\"#fde0ef\"],[0.5,\"#f7f7f7\"],[0.6,\"#e6f5d0\"],[0.7,\"#b8e186\"],[0.8,\"#7fbc41\"],[0.9,\"#4d9221\"],[1,\"#276419\"]],\"sequential\":[[0.0,\"#0d0887\"],[0.1111111111111111,\"#46039f\"],[0.2222222222222222,\"#7201a8\"],[0.3333333333333333,\"#9c179e\"],[0.4444444444444444,\"#bd3786\"],[0.5555555555555556,\"#d8576b\"],[0.6666666666666666,\"#ed7953\"],[0.7777777777777778,\"#fb9f3a\"],[0.8888888888888888,\"#fdca26\"],[1.0,\"#f0f921\"]],\"sequentialminus\":[[0.0,\"#0d0887\"],[0.1111111111111111,\"#46039f\"],[0.2222222222222222,\"#7201a8\"],[0.3333333333333333,\"#9c179e\"],[0.4444444444444444,\"#bd3786\"],[0.5555555555555556,\"#d8576b\"],[0.6666666666666666,\"#ed7953\"],[0.7777777777777778,\"#fb9f3a\"],[0.8888888888888888,\"#fdca26\"],[1.0,\"#f0f921\"]]},\"colorway\":[\"#636efa\",\"#EF553B\",\"#00cc96\",\"#ab63fa\",\"#FFA15A\",\"#19d3f3\",\"#FF6692\",\"#B6E880\",\"#FF97FF\",\"#FECB52\"],\"font\":{\"color\":\"#2a3f5f\"},\"geo\":{\"bgcolor\":\"white\",\"lakecolor\":\"white\",\"landcolor\":\"#E5ECF6\",\"showlakes\":true,\"showland\":true,\"subunitcolor\":\"white\"},\"hoverlabel\":{\"align\":\"left\"},\"hovermode\":\"closest\",\"mapbox\":{\"style\":\"light\"},\"paper_bgcolor\":\"white\",\"plot_bgcolor\":\"#E5ECF6\",\"polar\":{\"angularaxis\":{\"gridcolor\":\"white\",\"linecolor\":\"white\",\"ticks\":\"\"},\"bgcolor\":\"#E5ECF6\",\"radialaxis\":{\"gridcolor\":\"white\",\"linecolor\":\"white\",\"ticks\":\"\"}},\"scene\":{\"xaxis\":{\"backgroundcolor\":\"#E5ECF6\",\"gridcolor\":\"white\",\"gridwidth\":2,\"linecolor\":\"white\",\"showbackground\":true,\"ticks\":\"\",\"zerolinecolor\":\"white\"},\"yaxis\":{\"backgroundcolor\":\"#E5ECF6\",\"gridcolor\":\"white\",\"gridwidth\":2,\"linecolor\":\"white\",\"showbackground\":true,\"ticks\":\"\",\"zerolinecolor\":\"white\"},\"zaxis\":{\"backgroundcolor\":\"#E5ECF6\",\"gridcolor\":\"white\",\"gridwidth\":2,\"linecolor\":\"white\",\"showbackground\":true,\"ticks\":\"\",\"zerolinecolor\":\"white\"}},\"shapedefaults\":{\"line\":{\"color\":\"#2a3f5f\"}},\"ternary\":{\"aaxis\":{\"gridcolor\":\"white\",\"linecolor\":\"white\",\"ticks\":\"\"},\"baxis\":{\"gridcolor\":\"white\",\"linecolor\":\"white\",\"ticks\":\"\"},\"bgcolor\":\"#E5ECF6\",\"caxis\":{\"gridcolor\":\"white\",\"linecolor\":\"white\",\"ticks\":\"\"}},\"title\":{\"x\":0.05},\"xaxis\":{\"automargin\":true,\"gridcolor\":\"white\",\"linecolor\":\"white\",\"ticks\":\"\",\"title\":{\"standoff\":15},\"zerolinecolor\":\"white\",\"zerolinewidth\":2},\"yaxis\":{\"automargin\":true,\"gridcolor\":\"white\",\"linecolor\":\"white\",\"ticks\":\"\",\"title\":{\"standoff\":15},\"zerolinecolor\":\"white\",\"zerolinewidth\":2}}},\"title\":{\"text\":\"Customer churn in training data\"}},                        {\"responsive\": true}                    ).then(function(){\n",
       "                            \n",
       "var gd = document.getElementById('2b0410f6-81d5-4453-be53-dedffd1d7ad5');\n",
       "var x = new MutationObserver(function (mutations, observer) {{\n",
       "        var display = window.getComputedStyle(gd).display;\n",
       "        if (!display || display === 'none') {{\n",
       "            console.log([gd, 'removed!']);\n",
       "            Plotly.purge(gd);\n",
       "            observer.disconnect();\n",
       "        }}\n",
       "}});\n",
       "\n",
       "// Listen for the removal of the full notebook cells\n",
       "var notebookContainer = gd.closest('#notebook-container');\n",
       "if (notebookContainer) {{\n",
       "    x.observe(notebookContainer, {childList: true});\n",
       "}}\n",
       "\n",
       "// Listen for the clearing of the current output cell\n",
       "var outputEl = gd.closest('.output');\n",
       "if (outputEl) {{\n",
       "    x.observe(outputEl, {childList: true});\n",
       "}}\n",
       "\n",
       "                        })                };                });            </script>        </div>"
      ]
     },
     "metadata": {},
     "output_type": "display_data"
    }
   ],
   "source": [
    "trace = go.Pie(labels = data[\"churn\"].value_counts().keys().tolist(),\n",
    "               values = data[\"churn\"].value_counts().values.tolist(),\n",
    "               marker = dict(colors = ['royalblue','lime'],\n",
    "                             line = dict(color = \"white\", width =  1.3)\n",
    "                            ),\n",
    "               rotation = 90,\n",
    "               hoverinfo = \"label+value+text\",\n",
    "               hole = .5\n",
    "              )\n",
    "layout = go.Layout(dict(title = \"Customer churn in training data\",\n",
    "                        plot_bgcolor = \"rgb(243,243,243)\",\n",
    "                        paper_bgcolor = \"rgb(243,243,243)\",\n",
    "                       )\n",
    "                  )\n",
    "data2 = [trace]\n",
    "fig = go.Figure(data = data2, layout = layout)\n",
    "py.iplot(fig)"
   ]
  },
  {
   "cell_type": "code",
   "execution_count": 38,
   "id": "b98f1726",
   "metadata": {},
   "outputs": [],
   "source": [
    "def dataoveriew(df, message):\n",
    "    print(f'{message}:\\n')\n",
    "    print(\"Rows:\", df.shape[0])\n",
    "    print(\"\\nNumber of features:\", df.shape[1])\n",
    "    print(\"\\nFeatures:\")\n",
    "    print(data.columns.tolist())\n",
    "    print(\"\\nMissing values:\", df.isnull().sum().values.sum())\n",
    "    print(\"\\nUnique values:\")\n",
    "    print(df.nunique())"
   ]
  },
  {
   "cell_type": "code",
   "execution_count": 39,
   "id": "a9138c6a",
   "metadata": {},
   "outputs": [
    {
     "name": "stdout",
     "output_type": "stream",
     "text": [
      "Overview of entire set:\n",
      "\n",
      "Rows: 3875\n",
      "\n",
      "Number of features: 29\n",
      "\n",
      "Features:\n",
      "['is_male', 'is_senior_citizen', 'partner', 'dependents', 'phone_service', 'internet_service', 'contract_type', 'payment_type', 'monthly_charges', 'total_charges', 'churn', 'tenure', 'is_female', 'has_churned', 'has_phone', 'has_internet', 'has_phone_and_internet', 'partner_dependents', 'no_partners_no_dependents', 'no_dependents_yes_partners', 'dependents_no_partners', 'yes_dependents_and_partners', 'Unnamed: 23', 'start_date', 'average_monthly_charges', 'validate_monthly_charges', 'contract_type_desc', 'phone_type_desc', 'internet_type_desc']\n",
      "\n",
      "Missing values: 19375\n",
      "\n",
      "Unique values:\n",
      "is_male                           1\n",
      "is_senior_citizen                 2\n",
      "partner                           2\n",
      "dependents                        2\n",
      "phone_service                     3\n",
      "internet_service                  3\n",
      "contract_type                     1\n",
      "payment_type                      4\n",
      "monthly_charges                1238\n",
      "total_charges                  3501\n",
      "churn                             2\n",
      "tenure                           72\n",
      "is_female                         2\n",
      "has_churned                       2\n",
      "has_phone                         2\n",
      "has_internet                      2\n",
      "has_phone_and_internet            2\n",
      "partner_dependents                4\n",
      "no_partners_no_dependents         0\n",
      "no_dependents_yes_partners        0\n",
      "dependents_no_partners            0\n",
      "yes_dependents_and_partners       0\n",
      "Unnamed: 23                       0\n",
      "start_date                     1398\n",
      "average_monthly_charges        1238\n",
      "validate_monthly_charges          1\n",
      "contract_type_desc                1\n",
      "phone_type_desc                   3\n",
      "internet_type_desc                3\n",
      "dtype: int64\n"
     ]
    }
   ],
   "source": [
    "dataoveriew(data,'Overview of entire set')"
   ]
  },
  {
   "cell_type": "code",
   "execution_count": 40,
   "id": "cfd11f2a",
   "metadata": {},
   "outputs": [
    {
     "name": "stdout",
     "output_type": "stream",
     "text": [
      "Overview of training set:\n",
      "\n",
      "Rows: 3100\n",
      "\n",
      "Number of features: 28\n",
      "\n",
      "Features:\n",
      "['is_male', 'is_senior_citizen', 'partner', 'dependents', 'phone_service', 'internet_service', 'contract_type', 'payment_type', 'monthly_charges', 'total_charges', 'churn', 'tenure', 'is_female', 'has_churned', 'has_phone', 'has_internet', 'has_phone_and_internet', 'partner_dependents', 'no_partners_no_dependents', 'no_dependents_yes_partners', 'dependents_no_partners', 'yes_dependents_and_partners', 'Unnamed: 23', 'start_date', 'average_monthly_charges', 'validate_monthly_charges', 'contract_type_desc', 'phone_type_desc', 'internet_type_desc']\n",
      "\n",
      "Missing values: 15500\n",
      "\n",
      "Unique values:\n",
      "is_male                           1\n",
      "is_senior_citizen                 2\n",
      "partner                           1\n",
      "dependents                        1\n",
      "phone_service                     3\n",
      "internet_service                  3\n",
      "contract_type                     1\n",
      "payment_type                      4\n",
      "monthly_charges                1131\n",
      "total_charges                  2852\n",
      "tenure                           72\n",
      "is_female                         2\n",
      "has_churned                       2\n",
      "has_phone                         2\n",
      "has_internet                      2\n",
      "has_phone_and_internet            2\n",
      "partner_dependents                4\n",
      "no_partners_no_dependents         0\n",
      "no_dependents_yes_partners        0\n",
      "dependents_no_partners            0\n",
      "yes_dependents_and_partners       0\n",
      "Unnamed: 23                       0\n",
      "start_date                     1275\n",
      "average_monthly_charges        1131\n",
      "validate_monthly_charges          1\n",
      "contract_type_desc                1\n",
      "phone_type_desc                   3\n",
      "internet_type_desc                3\n",
      "dtype: int64\n"
     ]
    }
   ],
   "source": [
    "dataoveriew(X_train,'Overview of training set')"
   ]
  },
  {
   "cell_type": "code",
   "execution_count": null,
   "id": "9c9e1318",
   "metadata": {},
   "outputs": [],
   "source": [
    "data"
   ]
  },
  {
   "cell_type": "code",
   "execution_count": null,
   "id": "0012f0d9",
   "metadata": {},
   "outputs": [],
   "source": []
  },
  {
   "cell_type": "code",
   "execution_count": 49,
   "id": "dd2a8135",
   "metadata": {},
   "outputs": [
    {
     "data": {
      "image/png": "[encoded data removed]",
      "text/plain": [
       "<Figure size 1080x1080 with 42 Axes>"
      ]
     },
     "metadata": {
      "needs_background": "light"
     },
     "output_type": "display_data"
    }
   ],
   "source": [
    "#Separating columns to be visualized\n",
    "out_cols = list(set(data.nunique()[data.nunique()<6].keys().tolist()\n",
    "                    + data.select_dtypes(include='object').columns.tolist()))\n",
    "viz_cols = [x for x in data.columns if x not in out_cols] + ['churn']\n",
    "\n",
    "sns.pairplot(data[viz_cols], diag_kind=\"kde\")\n",
    "plt.show()"
   ]
  },
  {
   "cell_type": "code",
   "execution_count": null,
   "id": "2e3becc5",
   "metadata": {},
   "outputs": [],
   "source": []
  }
 ],
 "metadata": {
  "kernelspec": {
   "display_name": "Python 3",
   "language": "python",
   "name": "python3"
  },
  "language_info": {
   "codemirror_mode": {
    "name": "ipython",
    "version": 3
   },
   "file_extension": ".py",
   "mimetype": "text/x-python",
   "name": "python",
   "nbconvert_exporter": "python",
   "pygments_lexer": "ipython3",
   "version": "3.8.8"
  }
 },
 "nbformat": 4,
 "nbformat_minor": 5
}
